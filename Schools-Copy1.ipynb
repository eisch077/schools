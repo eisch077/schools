{
 "cells": [
  {
   "cell_type": "code",
   "execution_count": 25,
   "metadata": {
    "collapsed": true
   },
   "outputs": [],
   "source": [
    "import pandas as pd\n"
   ]
  },
  {
   "cell_type": "code",
   "execution_count": 26,
   "metadata": {
    "collapsed": true
   },
   "outputs": [],
   "source": [
    "import csv"
   ]
  },
  {
   "cell_type": "code",
   "execution_count": 27,
   "metadata": {
    "collapsed": true
   },
   "outputs": [],
   "source": [
    "# opening 2000-1 file\n",
    "zero_one = pd.read_csv(\"/Users/rilyneischens/desktop/school/edits/2000-1.csv\") "
   ]
  },
  {
   "cell_type": "code",
   "execution_count": 28,
   "metadata": {},
   "outputs": [
    {
     "name": "stdout",
     "output_type": "stream",
     "text": [
      "<class 'pandas.core.frame.DataFrame'>\n",
      "RangeIndex: 374 entries, 0 to 373\n",
      "Data columns (total 17 columns):\n",
      "district                          374 non-null object\n",
      "resident_students_in_district     374 non-null object\n",
      "open_enrollment_out               374 non-null float64\n",
      "tuition_out                       374 non-null float64\n",
      "nonpublic_shared_time             374 non-null float64\n",
      "public_institution_pt             374 non-null float64\n",
      "tuition_out_com_college           374 non-null float64\n",
      "enroll_zero_one                   374 non-null object\n",
      "open_enrollment_in                374 non-null float64\n",
      "tuition_in                        374 non-null float64\n",
      "out_of_state_in                   374 non-null int64\n",
      "total_served_enrollment           374 non-null object\n",
      "sup_weighting                     374 non-null float64\n",
      "lep_weighting                     374 non-null float64\n",
      "residents_in_accred_nonpublics    293 non-null object\n",
      "tech_requests_nonpublics          100 non-null object\n",
      "phase_i_teacher_fte               374 non-null object\n",
      "dtypes: float64(9), int64(1), object(7)\n",
      "memory usage: 49.7+ KB\n"
     ]
    }
   ],
   "source": [
    "# renaming cert_enroll_2000-1 column enroll_zero_one\n",
    "zero_one = zero_one.rename(columns={\"cert_enroll_2000-1\": \"enroll_zero_one\"})\n",
    "zero_one.info()"
   ]
  },
  {
   "cell_type": "code",
   "execution_count": 29,
   "metadata": {
    "collapsed": true
   },
   "outputs": [],
   "source": [
    "# opening all files\n",
    "one_two = pd.read_csv(\"/Users/rilyneischens/desktop/school/edits/2001-2.csv\") \n",
    "two_three = pd.read_csv(\"/Users/rilyneischens/desktop/school/edits/2002-3.csv\") \n",
    "three_four = pd.read_csv(\"/Users/rilyneischens/desktop/school/edits/2003-4.csv\") \n",
    "four_five = pd.read_csv(\"/Users/rilyneischens/desktop/school/edits/2004-5.csv\") \n",
    "five_six = pd.read_csv(\"/Users/rilyneischens/desktop/school/edits/2005-6.csv\") \n",
    "six_seven = pd.read_csv(\"/Users/rilyneischens/desktop/school/edits/2006-7.csv\") \n",
    "seven_eight = pd.read_csv(\"/Users/rilyneischens/desktop/school/edits/2007-8.csv\") \n",
    "eight_nine = pd.read_csv(\"/Users/rilyneischens/desktop/school/edits/2008-9.csv\") \n",
    "nine_ten = pd.read_csv(\"/Users/rilyneischens/desktop/school/edits/2009-10.csv\") \n",
    "ten_eleven = pd.read_csv(\"/Users/rilyneischens/desktop/school/edits/2010-11.csv\") \n",
    "eleven_twelve = pd.read_csv(\"/Users/rilyneischens/desktop/school/edits/2011-12.csv\") \n",
    "twelve_thirteen = pd.read_csv(\"/Users/rilyneischens/desktop/school/edits/2012-13.csv\") \n",
    "thirteen_fourteen = pd.read_csv(\"/Users/rilyneischens/desktop/school/edits/2013-14.csv\") \n",
    "fourteen_fifteen = pd.read_csv(\"/Users/rilyneischens/desktop/school/edits/2014-15.csv\") \n",
    "fifteen_sixteen = pd.read_csv(\"/Users/rilyneischens/desktop/school/edits/2015-16.csv\") \n",
    "sixteen_seventeen = pd.read_csv(\"/Users/rilyneischens/desktop/school/edits/2016-17.csv\") "
   ]
  },
  {
   "cell_type": "code",
   "execution_count": null,
   "metadata": {
    "collapsed": true
   },
   "outputs": [],
   "source": []
  },
  {
   "cell_type": "code",
   "execution_count": null,
   "metadata": {
    "collapsed": true
   },
   "outputs": [],
   "source": []
  },
  {
   "cell_type": "markdown",
   "metadata": {},
   "source": [
    "# checking one_two"
   ]
  },
  {
   "cell_type": "code",
   "execution_count": 30,
   "metadata": {},
   "outputs": [
    {
     "name": "stdout",
     "output_type": "stream",
     "text": [
      "<class 'pandas.core.frame.DataFrame'>\n",
      "RangeIndex: 371 entries, 0 to 370\n",
      "Data columns (total 17 columns):\n",
      "district                          371 non-null object\n",
      "resident_students_in_district     371 non-null object\n",
      "open_enrollment_out               371 non-null float64\n",
      "tuition_out                       371 non-null float64\n",
      "nonpublic_shared_time             371 non-null float64\n",
      "public_institution_pt             371 non-null float64\n",
      "tuition_out_com_college           371 non-null float64\n",
      "cert_enroll_2001-2                371 non-null object\n",
      "open_enrollment_in                371 non-null float64\n",
      "tuition_in                        371 non-null float64\n",
      "out_of_state_in                   371 non-null int64\n",
      "total_served_enrollment           371 non-null object\n",
      "sup_weighting                     371 non-null float64\n",
      "lep_weighting                     371 non-null float64\n",
      "residents_in_accred_nonpublics    371 non-null object\n",
      "tech_requests_nonpublics          371 non-null object\n",
      "phase_i_teacher_fte               371 non-null object\n",
      "dtypes: float64(9), int64(1), object(7)\n",
      "memory usage: 49.3+ KB\n"
     ]
    }
   ],
   "source": [
    "one_two.info()"
   ]
  },
  {
   "cell_type": "code",
   "execution_count": 31,
   "metadata": {},
   "outputs": [
    {
     "data": {
      "text/html": [
       "<div>\n",
       "<style>\n",
       "    .dataframe thead tr:only-child th {\n",
       "        text-align: right;\n",
       "    }\n",
       "\n",
       "    .dataframe thead th {\n",
       "        text-align: left;\n",
       "    }\n",
       "\n",
       "    .dataframe tbody tr th {\n",
       "        vertical-align: top;\n",
       "    }\n",
       "</style>\n",
       "<table border=\"1\" class=\"dataframe\">\n",
       "  <thead>\n",
       "    <tr style=\"text-align: right;\">\n",
       "      <th></th>\n",
       "      <th>district</th>\n",
       "      <th>resident_students_in_district</th>\n",
       "      <th>open_enrollment_out</th>\n",
       "      <th>tuition_out</th>\n",
       "      <th>nonpublic_shared_time</th>\n",
       "      <th>public_institution_pt</th>\n",
       "      <th>tuition_out_com_college</th>\n",
       "      <th>cert_enroll_2001-2</th>\n",
       "      <th>open_enrollment_in</th>\n",
       "      <th>tuition_in</th>\n",
       "      <th>out_of_state_in</th>\n",
       "      <th>total_served_enrollment</th>\n",
       "      <th>sup_weighting</th>\n",
       "      <th>lep_weighting</th>\n",
       "      <th>residents_in_accred_nonpublics</th>\n",
       "      <th>tech_requests_nonpublics</th>\n",
       "      <th>phase_i_teacher_fte</th>\n",
       "    </tr>\n",
       "  </thead>\n",
       "  <tbody>\n",
       "    <tr>\n",
       "      <th>0</th>\n",
       "      <td>Adair-Casey</td>\n",
       "      <td>365.2</td>\n",
       "      <td>17.0</td>\n",
       "      <td>6.0</td>\n",
       "      <td>0.0</td>\n",
       "      <td>0.0</td>\n",
       "      <td>0.0</td>\n",
       "      <td>388.2</td>\n",
       "      <td>14.0</td>\n",
       "      <td>1.0</td>\n",
       "      <td>0</td>\n",
       "      <td>380.2</td>\n",
       "      <td>1.23</td>\n",
       "      <td>0.00</td>\n",
       "      <td>3</td>\n",
       "      <td>0</td>\n",
       "      <td>34.5</td>\n",
       "    </tr>\n",
       "    <tr>\n",
       "      <th>1</th>\n",
       "      <td>Adel-Desoto-Minburn</td>\n",
       "      <td>1,340.20</td>\n",
       "      <td>65.2</td>\n",
       "      <td>5.0</td>\n",
       "      <td>0.0</td>\n",
       "      <td>0.2</td>\n",
       "      <td>13.0</td>\n",
       "      <td>1,423.60</td>\n",
       "      <td>141.3</td>\n",
       "      <td>1.0</td>\n",
       "      <td>0</td>\n",
       "      <td>1,482.70</td>\n",
       "      <td>0.60</td>\n",
       "      <td>1.14</td>\n",
       "      <td>6</td>\n",
       "      <td>0</td>\n",
       "      <td>115.1</td>\n",
       "    </tr>\n",
       "    <tr>\n",
       "      <th>2</th>\n",
       "      <td>AGWSR</td>\n",
       "      <td>752.1</td>\n",
       "      <td>163.1</td>\n",
       "      <td>14.0</td>\n",
       "      <td>2.3</td>\n",
       "      <td>0.5</td>\n",
       "      <td>3.0</td>\n",
       "      <td>935</td>\n",
       "      <td>46.0</td>\n",
       "      <td>0.0</td>\n",
       "      <td>0</td>\n",
       "      <td>800.9</td>\n",
       "      <td>7.98</td>\n",
       "      <td>14.06</td>\n",
       "      <td>16</td>\n",
       "      <td>62</td>\n",
       "      <td>67.88</td>\n",
       "    </tr>\n",
       "    <tr>\n",
       "      <th>3</th>\n",
       "      <td>A-H-S-T</td>\n",
       "      <td>644.8</td>\n",
       "      <td>50.0</td>\n",
       "      <td>6.0</td>\n",
       "      <td>0.0</td>\n",
       "      <td>0.0</td>\n",
       "      <td>0.0</td>\n",
       "      <td>700.8</td>\n",
       "      <td>12.0</td>\n",
       "      <td>0.0</td>\n",
       "      <td>0</td>\n",
       "      <td>656.8</td>\n",
       "      <td>6.18</td>\n",
       "      <td>0.00</td>\n",
       "      <td>1</td>\n",
       "      <td>0</td>\n",
       "      <td>56.13</td>\n",
       "    </tr>\n",
       "    <tr>\n",
       "      <th>4</th>\n",
       "      <td>Akron Westfield</td>\n",
       "      <td>536</td>\n",
       "      <td>24.2</td>\n",
       "      <td>6.0</td>\n",
       "      <td>0.0</td>\n",
       "      <td>0.0</td>\n",
       "      <td>0.0</td>\n",
       "      <td>566.2</td>\n",
       "      <td>48.0</td>\n",
       "      <td>2.0</td>\n",
       "      <td>66</td>\n",
       "      <td>652</td>\n",
       "      <td>0.81</td>\n",
       "      <td>0.00</td>\n",
       "      <td>8</td>\n",
       "      <td>0</td>\n",
       "      <td>57</td>\n",
       "    </tr>\n",
       "  </tbody>\n",
       "</table>\n",
       "</div>"
      ],
      "text/plain": [
       "              district resident_students_in_district  open_enrollment_out  \\\n",
       "0          Adair-Casey                         365.2                 17.0   \n",
       "1  Adel-Desoto-Minburn                      1,340.20                 65.2   \n",
       "2                AGWSR                         752.1                163.1   \n",
       "3              A-H-S-T                         644.8                 50.0   \n",
       "4      Akron Westfield                           536                 24.2   \n",
       "\n",
       "   tuition_out  nonpublic_shared_time  public_institution_pt  \\\n",
       "0          6.0                    0.0                    0.0   \n",
       "1          5.0                    0.0                    0.2   \n",
       "2         14.0                    2.3                    0.5   \n",
       "3          6.0                    0.0                    0.0   \n",
       "4          6.0                    0.0                    0.0   \n",
       "\n",
       "   tuition_out_com_college cert_enroll_2001-2  open_enrollment_in  tuition_in  \\\n",
       "0                      0.0              388.2                14.0         1.0   \n",
       "1                     13.0           1,423.60               141.3         1.0   \n",
       "2                      3.0                935                46.0         0.0   \n",
       "3                      0.0              700.8                12.0         0.0   \n",
       "4                      0.0              566.2                48.0         2.0   \n",
       "\n",
       "   out_of_state_in total_served_enrollment  sup_weighting  lep_weighting  \\\n",
       "0                0                   380.2           1.23           0.00   \n",
       "1                0                1,482.70           0.60           1.14   \n",
       "2                0                   800.9           7.98          14.06   \n",
       "3                0                   656.8           6.18           0.00   \n",
       "4               66                     652           0.81           0.00   \n",
       "\n",
       "  residents_in_accred_nonpublics tech_requests_nonpublics phase_i_teacher_fte  \n",
       "0                              3                        0                34.5  \n",
       "1                              6                        0               115.1  \n",
       "2                             16                       62               67.88  \n",
       "3                              1                        0               56.13  \n",
       "4                              8                        0                  57  "
      ]
     },
     "execution_count": 31,
     "metadata": {},
     "output_type": "execute_result"
    }
   ],
   "source": [
    "one_two.head()"
   ]
  },
  {
   "cell_type": "markdown",
   "metadata": {},
   "source": [
    "Checking two_three"
   ]
  },
  {
   "cell_type": "code",
   "execution_count": 32,
   "metadata": {},
   "outputs": [
    {
     "name": "stdout",
     "output_type": "stream",
     "text": [
      "<class 'pandas.core.frame.DataFrame'>\n",
      "RangeIndex: 371 entries, 0 to 370\n",
      "Data columns (total 17 columns):\n",
      "district                          371 non-null object\n",
      "resident_students_in_district     371 non-null object\n",
      "open_enrollment_out               371 non-null float64\n",
      "tuition_out                       371 non-null float64\n",
      "nonpublic_shared_time             371 non-null float64\n",
      "public_institution_pt             371 non-null float64\n",
      "tuition_out_com_college           371 non-null float64\n",
      "cert_enroll_2002-3                371 non-null object\n",
      "open_enrollment_in                371 non-null float64\n",
      "tuition_in                        371 non-null float64\n",
      "out_of_state_in                   371 non-null int64\n",
      "total_served_enrollment           371 non-null object\n",
      "sup_weighting                     371 non-null float64\n",
      "lep_weighting                     371 non-null float64\n",
      "residents_in_accred_nonpublics    371 non-null object\n",
      "tech_requests_nonpublics          371 non-null object\n",
      "phase_i_teacher_fte               371 non-null object\n",
      "dtypes: float64(9), int64(1), object(7)\n",
      "memory usage: 49.3+ KB\n"
     ]
    }
   ],
   "source": [
    "two_three.info()"
   ]
  },
  {
   "cell_type": "code",
   "execution_count": 33,
   "metadata": {},
   "outputs": [
    {
     "data": {
      "text/html": [
       "<div>\n",
       "<style>\n",
       "    .dataframe thead tr:only-child th {\n",
       "        text-align: right;\n",
       "    }\n",
       "\n",
       "    .dataframe thead th {\n",
       "        text-align: left;\n",
       "    }\n",
       "\n",
       "    .dataframe tbody tr th {\n",
       "        vertical-align: top;\n",
       "    }\n",
       "</style>\n",
       "<table border=\"1\" class=\"dataframe\">\n",
       "  <thead>\n",
       "    <tr style=\"text-align: right;\">\n",
       "      <th></th>\n",
       "      <th>district</th>\n",
       "      <th>resident_students_in_district</th>\n",
       "      <th>open_enrollment_out</th>\n",
       "      <th>tuition_out</th>\n",
       "      <th>nonpublic_shared_time</th>\n",
       "      <th>public_institution_pt</th>\n",
       "      <th>tuition_out_com_college</th>\n",
       "      <th>cert_enroll_2002-3</th>\n",
       "      <th>open_enrollment_in</th>\n",
       "      <th>tuition_in</th>\n",
       "      <th>out_of_state_in</th>\n",
       "      <th>total_served_enrollment</th>\n",
       "      <th>sup_weighting</th>\n",
       "      <th>lep_weighting</th>\n",
       "      <th>residents_in_accred_nonpublics</th>\n",
       "      <th>tech_requests_nonpublics</th>\n",
       "      <th>phase_i_teacher_fte</th>\n",
       "    </tr>\n",
       "  </thead>\n",
       "  <tbody>\n",
       "    <tr>\n",
       "      <th>0</th>\n",
       "      <td>AGWSR</td>\n",
       "      <td>716</td>\n",
       "      <td>161.6</td>\n",
       "      <td>16.0</td>\n",
       "      <td>0.7</td>\n",
       "      <td>0.0</td>\n",
       "      <td>3.0</td>\n",
       "      <td>897.3</td>\n",
       "      <td>46.0</td>\n",
       "      <td>1.0</td>\n",
       "      <td>0</td>\n",
       "      <td>763.7</td>\n",
       "      <td>8.35</td>\n",
       "      <td>12.10</td>\n",
       "      <td>15</td>\n",
       "      <td>57</td>\n",
       "      <td>64.81</td>\n",
       "    </tr>\n",
       "    <tr>\n",
       "      <th>1</th>\n",
       "      <td>ADAIR-CASEY</td>\n",
       "      <td>348.2</td>\n",
       "      <td>16.0</td>\n",
       "      <td>3.0</td>\n",
       "      <td>0.0</td>\n",
       "      <td>0.0</td>\n",
       "      <td>1.0</td>\n",
       "      <td>368.2</td>\n",
       "      <td>14.0</td>\n",
       "      <td>0.0</td>\n",
       "      <td>0</td>\n",
       "      <td>362.2</td>\n",
       "      <td>0.00</td>\n",
       "      <td>0.00</td>\n",
       "      <td>0</td>\n",
       "      <td>0</td>\n",
       "      <td>33</td>\n",
       "    </tr>\n",
       "    <tr>\n",
       "      <th>2</th>\n",
       "      <td>ADEL-DESOTO-MINBURN</td>\n",
       "      <td>1,353.00</td>\n",
       "      <td>77.4</td>\n",
       "      <td>8.0</td>\n",
       "      <td>0.0</td>\n",
       "      <td>0.3</td>\n",
       "      <td>6.0</td>\n",
       "      <td>1,444.70</td>\n",
       "      <td>140.2</td>\n",
       "      <td>4.0</td>\n",
       "      <td>0</td>\n",
       "      <td>1,497.50</td>\n",
       "      <td>0.96</td>\n",
       "      <td>0.66</td>\n",
       "      <td>5</td>\n",
       "      <td>0</td>\n",
       "      <td>113.78</td>\n",
       "    </tr>\n",
       "    <tr>\n",
       "      <th>3</th>\n",
       "      <td>AKRON WESTFIELD</td>\n",
       "      <td>527.2</td>\n",
       "      <td>27.2</td>\n",
       "      <td>5.0</td>\n",
       "      <td>0.0</td>\n",
       "      <td>0.0</td>\n",
       "      <td>1.0</td>\n",
       "      <td>560.4</td>\n",
       "      <td>41.0</td>\n",
       "      <td>1.0</td>\n",
       "      <td>62</td>\n",
       "      <td>631.2</td>\n",
       "      <td>0.00</td>\n",
       "      <td>0.00</td>\n",
       "      <td>8</td>\n",
       "      <td>0</td>\n",
       "      <td>55</td>\n",
       "    </tr>\n",
       "    <tr>\n",
       "      <th>4</th>\n",
       "      <td>ALBERT CITY-TRUESDALE</td>\n",
       "      <td>239.5</td>\n",
       "      <td>53.4</td>\n",
       "      <td>8.0</td>\n",
       "      <td>0.0</td>\n",
       "      <td>0.0</td>\n",
       "      <td>0.0</td>\n",
       "      <td>300.9</td>\n",
       "      <td>5.0</td>\n",
       "      <td>0.0</td>\n",
       "      <td>0</td>\n",
       "      <td>244.5</td>\n",
       "      <td>1.53</td>\n",
       "      <td>1.54</td>\n",
       "      <td>6</td>\n",
       "      <td>0</td>\n",
       "      <td>28.75</td>\n",
       "    </tr>\n",
       "  </tbody>\n",
       "</table>\n",
       "</div>"
      ],
      "text/plain": [
       "                district resident_students_in_district  open_enrollment_out  \\\n",
       "0                  AGWSR                           716                161.6   \n",
       "1            ADAIR-CASEY                         348.2                 16.0   \n",
       "2    ADEL-DESOTO-MINBURN                      1,353.00                 77.4   \n",
       "3        AKRON WESTFIELD                         527.2                 27.2   \n",
       "4  ALBERT CITY-TRUESDALE                         239.5                 53.4   \n",
       "\n",
       "   tuition_out  nonpublic_shared_time  public_institution_pt  \\\n",
       "0         16.0                    0.7                    0.0   \n",
       "1          3.0                    0.0                    0.0   \n",
       "2          8.0                    0.0                    0.3   \n",
       "3          5.0                    0.0                    0.0   \n",
       "4          8.0                    0.0                    0.0   \n",
       "\n",
       "   tuition_out_com_college cert_enroll_2002-3  open_enrollment_in  tuition_in  \\\n",
       "0                      3.0              897.3                46.0         1.0   \n",
       "1                      1.0              368.2                14.0         0.0   \n",
       "2                      6.0           1,444.70               140.2         4.0   \n",
       "3                      1.0              560.4                41.0         1.0   \n",
       "4                      0.0              300.9                 5.0         0.0   \n",
       "\n",
       "   out_of_state_in total_served_enrollment  sup_weighting  lep_weighting  \\\n",
       "0                0                   763.7           8.35          12.10   \n",
       "1                0                   362.2           0.00           0.00   \n",
       "2                0                1,497.50           0.96           0.66   \n",
       "3               62                   631.2           0.00           0.00   \n",
       "4                0                   244.5           1.53           1.54   \n",
       "\n",
       "  residents_in_accred_nonpublics tech_requests_nonpublics phase_i_teacher_fte  \n",
       "0                             15                       57               64.81  \n",
       "1                              0                        0                  33  \n",
       "2                              5                        0              113.78  \n",
       "3                              8                        0                  55  \n",
       "4                              6                        0               28.75  "
      ]
     },
     "execution_count": 33,
     "metadata": {},
     "output_type": "execute_result"
    }
   ],
   "source": [
    "two_three.head()"
   ]
  },
  {
   "cell_type": "markdown",
   "metadata": {},
   "source": [
    "Checking three_four"
   ]
  },
  {
   "cell_type": "code",
   "execution_count": 34,
   "metadata": {},
   "outputs": [
    {
     "name": "stdout",
     "output_type": "stream",
     "text": [
      "<class 'pandas.core.frame.DataFrame'>\n",
      "RangeIndex: 370 entries, 0 to 369\n",
      "Data columns (total 17 columns):\n",
      "district                          370 non-null object\n",
      "resident_students_in_district     370 non-null object\n",
      "open_enrollment_out               370 non-null float64\n",
      "tuition_out                       370 non-null float64\n",
      "nonpublic_shared_time             370 non-null float64\n",
      "public_institution_pt             370 non-null float64\n",
      "tuition_out_com_college           370 non-null float64\n",
      "cert_enroll_2003-4                370 non-null object\n",
      "open_enrollment_in                370 non-null float64\n",
      "tuition_in                        370 non-null float64\n",
      "out_of_state_in                   370 non-null float64\n",
      "total_served_enrollment           370 non-null object\n",
      "sup_weighting                     370 non-null float64\n",
      "lep_weighting                     370 non-null float64\n",
      "residents_in_accred_nonpublics    370 non-null object\n",
      "tech_requests_nonpublics          370 non-null object\n",
      "phase_i_teacher_fte               370 non-null object\n",
      "dtypes: float64(10), object(7)\n",
      "memory usage: 49.2+ KB\n"
     ]
    }
   ],
   "source": [
    "three_four.info()"
   ]
  },
  {
   "cell_type": "code",
   "execution_count": 35,
   "metadata": {},
   "outputs": [
    {
     "data": {
      "text/html": [
       "<div>\n",
       "<style>\n",
       "    .dataframe thead tr:only-child th {\n",
       "        text-align: right;\n",
       "    }\n",
       "\n",
       "    .dataframe thead th {\n",
       "        text-align: left;\n",
       "    }\n",
       "\n",
       "    .dataframe tbody tr th {\n",
       "        vertical-align: top;\n",
       "    }\n",
       "</style>\n",
       "<table border=\"1\" class=\"dataframe\">\n",
       "  <thead>\n",
       "    <tr style=\"text-align: right;\">\n",
       "      <th></th>\n",
       "      <th>district</th>\n",
       "      <th>resident_students_in_district</th>\n",
       "      <th>open_enrollment_out</th>\n",
       "      <th>tuition_out</th>\n",
       "      <th>nonpublic_shared_time</th>\n",
       "      <th>public_institution_pt</th>\n",
       "      <th>tuition_out_com_college</th>\n",
       "      <th>cert_enroll_2003-4</th>\n",
       "      <th>open_enrollment_in</th>\n",
       "      <th>tuition_in</th>\n",
       "      <th>out_of_state_in</th>\n",
       "      <th>total_served_enrollment</th>\n",
       "      <th>sup_weighting</th>\n",
       "      <th>lep_weighting</th>\n",
       "      <th>residents_in_accred_nonpublics</th>\n",
       "      <th>tech_requests_nonpublics</th>\n",
       "      <th>phase_i_teacher_fte</th>\n",
       "    </tr>\n",
       "  </thead>\n",
       "  <tbody>\n",
       "    <tr>\n",
       "      <th>0</th>\n",
       "      <td>ADAIR-CASEY</td>\n",
       "      <td>342.9</td>\n",
       "      <td>19.0</td>\n",
       "      <td>0.0</td>\n",
       "      <td>0.0</td>\n",
       "      <td>0.0</td>\n",
       "      <td>4.0</td>\n",
       "      <td>365.9</td>\n",
       "      <td>17.0</td>\n",
       "      <td>0.0</td>\n",
       "      <td>0.0</td>\n",
       "      <td>359.9</td>\n",
       "      <td>0.00</td>\n",
       "      <td>0.00</td>\n",
       "      <td>0</td>\n",
       "      <td>0</td>\n",
       "      <td>32.25</td>\n",
       "    </tr>\n",
       "    <tr>\n",
       "      <th>1</th>\n",
       "      <td>ADEL-DESOTO-MINBURN</td>\n",
       "      <td>1,336.7</td>\n",
       "      <td>79.4</td>\n",
       "      <td>5.0</td>\n",
       "      <td>0.0</td>\n",
       "      <td>0.0</td>\n",
       "      <td>6.0</td>\n",
       "      <td>1,427.1</td>\n",
       "      <td>144.1</td>\n",
       "      <td>8.0</td>\n",
       "      <td>0.0</td>\n",
       "      <td>1,488.8</td>\n",
       "      <td>0.66</td>\n",
       "      <td>0.44</td>\n",
       "      <td>15</td>\n",
       "      <td>0</td>\n",
       "      <td>118.32</td>\n",
       "    </tr>\n",
       "    <tr>\n",
       "      <th>2</th>\n",
       "      <td>AGWSR</td>\n",
       "      <td>675.7</td>\n",
       "      <td>150.0</td>\n",
       "      <td>9.0</td>\n",
       "      <td>1.8</td>\n",
       "      <td>0.3</td>\n",
       "      <td>3.0</td>\n",
       "      <td>839.8</td>\n",
       "      <td>43.0</td>\n",
       "      <td>0.0</td>\n",
       "      <td>0.0</td>\n",
       "      <td>720.8</td>\n",
       "      <td>1.70</td>\n",
       "      <td>9.24</td>\n",
       "      <td>18</td>\n",
       "      <td>59</td>\n",
       "      <td>68.25</td>\n",
       "    </tr>\n",
       "    <tr>\n",
       "      <th>3</th>\n",
       "      <td>A-H-S-T</td>\n",
       "      <td>578.8</td>\n",
       "      <td>91.6</td>\n",
       "      <td>10.0</td>\n",
       "      <td>0.0</td>\n",
       "      <td>0.0</td>\n",
       "      <td>0.0</td>\n",
       "      <td>680.4</td>\n",
       "      <td>9.0</td>\n",
       "      <td>4.0</td>\n",
       "      <td>0.0</td>\n",
       "      <td>591.8</td>\n",
       "      <td>10.19</td>\n",
       "      <td>0.00</td>\n",
       "      <td>1</td>\n",
       "      <td>0</td>\n",
       "      <td>55.00</td>\n",
       "    </tr>\n",
       "    <tr>\n",
       "      <th>4</th>\n",
       "      <td>AKRON WESTFIELD</td>\n",
       "      <td>525.2</td>\n",
       "      <td>26.6</td>\n",
       "      <td>5.0</td>\n",
       "      <td>0.0</td>\n",
       "      <td>0.0</td>\n",
       "      <td>0.0</td>\n",
       "      <td>556.8</td>\n",
       "      <td>44.0</td>\n",
       "      <td>1.0</td>\n",
       "      <td>56.0</td>\n",
       "      <td>626.2</td>\n",
       "      <td>0.00</td>\n",
       "      <td>0.00</td>\n",
       "      <td>11</td>\n",
       "      <td>0</td>\n",
       "      <td>51.75</td>\n",
       "    </tr>\n",
       "  </tbody>\n",
       "</table>\n",
       "</div>"
      ],
      "text/plain": [
       "              district resident_students_in_district  open_enrollment_out  \\\n",
       "0          ADAIR-CASEY                         342.9                 19.0   \n",
       "1  ADEL-DESOTO-MINBURN                       1,336.7                 79.4   \n",
       "2                AGWSR                         675.7                150.0   \n",
       "3              A-H-S-T                         578.8                 91.6   \n",
       "4      AKRON WESTFIELD                         525.2                 26.6   \n",
       "\n",
       "   tuition_out  nonpublic_shared_time  public_institution_pt  \\\n",
       "0          0.0                    0.0                    0.0   \n",
       "1          5.0                    0.0                    0.0   \n",
       "2          9.0                    1.8                    0.3   \n",
       "3         10.0                    0.0                    0.0   \n",
       "4          5.0                    0.0                    0.0   \n",
       "\n",
       "   tuition_out_com_college cert_enroll_2003-4  open_enrollment_in  tuition_in  \\\n",
       "0                      4.0              365.9                17.0         0.0   \n",
       "1                      6.0            1,427.1               144.1         8.0   \n",
       "2                      3.0              839.8                43.0         0.0   \n",
       "3                      0.0              680.4                 9.0         4.0   \n",
       "4                      0.0              556.8                44.0         1.0   \n",
       "\n",
       "   out_of_state_in total_served_enrollment  sup_weighting  lep_weighting  \\\n",
       "0              0.0                   359.9           0.00           0.00   \n",
       "1              0.0                 1,488.8           0.66           0.44   \n",
       "2              0.0                   720.8           1.70           9.24   \n",
       "3              0.0                   591.8          10.19           0.00   \n",
       "4             56.0                   626.2           0.00           0.00   \n",
       "\n",
       "  residents_in_accred_nonpublics tech_requests_nonpublics phase_i_teacher_fte  \n",
       "0                              0                        0               32.25  \n",
       "1                             15                        0              118.32  \n",
       "2                             18                       59               68.25  \n",
       "3                              1                        0               55.00  \n",
       "4                             11                        0               51.75  "
      ]
     },
     "execution_count": 35,
     "metadata": {},
     "output_type": "execute_result"
    }
   ],
   "source": [
    "three_four.head()"
   ]
  },
  {
   "cell_type": "markdown",
   "metadata": {},
   "source": [
    "Checking four_five"
   ]
  },
  {
   "cell_type": "code",
   "execution_count": 36,
   "metadata": {},
   "outputs": [
    {
     "name": "stdout",
     "output_type": "stream",
     "text": [
      "<class 'pandas.core.frame.DataFrame'>\n",
      "RangeIndex: 367 entries, 0 to 366\n",
      "Data columns (total 17 columns):\n",
      "district                          367 non-null object\n",
      "resident_students_in_district     367 non-null object\n",
      "open_enrollment_out               367 non-null float64\n",
      "tuition_out                       367 non-null float64\n",
      "nonpublic_shared_time             367 non-null float64\n",
      "public_institution_pt             367 non-null float64\n",
      "tuition_out_com_college           367 non-null float64\n",
      "cert_enroll_2004-5                367 non-null object\n",
      "open_enrollment_in                367 non-null float64\n",
      "tuition_in                        367 non-null float64\n",
      "out_of_state_in                   367 non-null int64\n",
      "total_served_enrollment           367 non-null object\n",
      "sup_weighting                     367 non-null float64\n",
      "lep_weighting                     367 non-null float64\n",
      "residents_in_accred_nonpublics    367 non-null object\n",
      "tech_requests_nonpublics          367 non-null object\n",
      "phase_i_teacher_fte               367 non-null object\n",
      "dtypes: float64(9), int64(1), object(7)\n",
      "memory usage: 48.8+ KB\n"
     ]
    }
   ],
   "source": [
    "four_five.info()"
   ]
  },
  {
   "cell_type": "code",
   "execution_count": 37,
   "metadata": {},
   "outputs": [
    {
     "data": {
      "text/html": [
       "<div>\n",
       "<style>\n",
       "    .dataframe thead tr:only-child th {\n",
       "        text-align: right;\n",
       "    }\n",
       "\n",
       "    .dataframe thead th {\n",
       "        text-align: left;\n",
       "    }\n",
       "\n",
       "    .dataframe tbody tr th {\n",
       "        vertical-align: top;\n",
       "    }\n",
       "</style>\n",
       "<table border=\"1\" class=\"dataframe\">\n",
       "  <thead>\n",
       "    <tr style=\"text-align: right;\">\n",
       "      <th></th>\n",
       "      <th>district</th>\n",
       "      <th>resident_students_in_district</th>\n",
       "      <th>open_enrollment_out</th>\n",
       "      <th>tuition_out</th>\n",
       "      <th>nonpublic_shared_time</th>\n",
       "      <th>public_institution_pt</th>\n",
       "      <th>tuition_out_com_college</th>\n",
       "      <th>cert_enroll_2004-5</th>\n",
       "      <th>open_enrollment_in</th>\n",
       "      <th>tuition_in</th>\n",
       "      <th>out_of_state_in</th>\n",
       "      <th>total_served_enrollment</th>\n",
       "      <th>sup_weighting</th>\n",
       "      <th>lep_weighting</th>\n",
       "      <th>residents_in_accred_nonpublics</th>\n",
       "      <th>tech_requests_nonpublics</th>\n",
       "      <th>phase_i_teacher_fte</th>\n",
       "    </tr>\n",
       "  </thead>\n",
       "  <tbody>\n",
       "    <tr>\n",
       "      <th>0</th>\n",
       "      <td>AGWSR</td>\n",
       "      <td>668.7</td>\n",
       "      <td>151.0</td>\n",
       "      <td>10.0</td>\n",
       "      <td>1.3</td>\n",
       "      <td>0.3</td>\n",
       "      <td>1.0</td>\n",
       "      <td>832.3</td>\n",
       "      <td>43.0</td>\n",
       "      <td>0.0</td>\n",
       "      <td>0</td>\n",
       "      <td>713.3</td>\n",
       "      <td>1.23</td>\n",
       "      <td>2.20</td>\n",
       "      <td>19</td>\n",
       "      <td>62</td>\n",
       "      <td>66.5</td>\n",
       "    </tr>\n",
       "    <tr>\n",
       "      <th>1</th>\n",
       "      <td>ADAIR-CASEY</td>\n",
       "      <td>323.4</td>\n",
       "      <td>17.0</td>\n",
       "      <td>4.0</td>\n",
       "      <td>0.0</td>\n",
       "      <td>0.0</td>\n",
       "      <td>2.0</td>\n",
       "      <td>346.4</td>\n",
       "      <td>18.0</td>\n",
       "      <td>0.0</td>\n",
       "      <td>0</td>\n",
       "      <td>341.4</td>\n",
       "      <td>0.00</td>\n",
       "      <td>0.00</td>\n",
       "      <td>0</td>\n",
       "      <td>0</td>\n",
       "      <td>31.88</td>\n",
       "    </tr>\n",
       "    <tr>\n",
       "      <th>2</th>\n",
       "      <td>ADEL-DESOTO-MINBURN</td>\n",
       "      <td>1,328.60</td>\n",
       "      <td>77.1</td>\n",
       "      <td>4.0</td>\n",
       "      <td>0.0</td>\n",
       "      <td>0.0</td>\n",
       "      <td>5.0</td>\n",
       "      <td>1,414.70</td>\n",
       "      <td>147.5</td>\n",
       "      <td>9.0</td>\n",
       "      <td>0</td>\n",
       "      <td>1,485.10</td>\n",
       "      <td>0.30</td>\n",
       "      <td>0.44</td>\n",
       "      <td>15</td>\n",
       "      <td>0</td>\n",
       "      <td>120.12</td>\n",
       "    </tr>\n",
       "    <tr>\n",
       "      <th>3</th>\n",
       "      <td>AKRON WESTFIELD</td>\n",
       "      <td>518.1</td>\n",
       "      <td>28.0</td>\n",
       "      <td>4.0</td>\n",
       "      <td>0.0</td>\n",
       "      <td>0.0</td>\n",
       "      <td>0.0</td>\n",
       "      <td>550.1</td>\n",
       "      <td>45.0</td>\n",
       "      <td>0.0</td>\n",
       "      <td>63</td>\n",
       "      <td>626.1</td>\n",
       "      <td>0.00</td>\n",
       "      <td>0.00</td>\n",
       "      <td>11</td>\n",
       "      <td>0</td>\n",
       "      <td>52.5</td>\n",
       "    </tr>\n",
       "    <tr>\n",
       "      <th>4</th>\n",
       "      <td>ALBERT CITY-TRUESDALE</td>\n",
       "      <td>108.5</td>\n",
       "      <td>64.1</td>\n",
       "      <td>80.6</td>\n",
       "      <td>0.0</td>\n",
       "      <td>0.0</td>\n",
       "      <td>0.0</td>\n",
       "      <td>253.2</td>\n",
       "      <td>6.0</td>\n",
       "      <td>1.0</td>\n",
       "      <td>0</td>\n",
       "      <td>115.5</td>\n",
       "      <td>2.60</td>\n",
       "      <td>1.76</td>\n",
       "      <td>5</td>\n",
       "      <td>0</td>\n",
       "      <td>18.25</td>\n",
       "    </tr>\n",
       "  </tbody>\n",
       "</table>\n",
       "</div>"
      ],
      "text/plain": [
       "                district resident_students_in_district  open_enrollment_out  \\\n",
       "0                  AGWSR                         668.7                151.0   \n",
       "1            ADAIR-CASEY                         323.4                 17.0   \n",
       "2    ADEL-DESOTO-MINBURN                      1,328.60                 77.1   \n",
       "3        AKRON WESTFIELD                         518.1                 28.0   \n",
       "4  ALBERT CITY-TRUESDALE                         108.5                 64.1   \n",
       "\n",
       "   tuition_out  nonpublic_shared_time  public_institution_pt  \\\n",
       "0         10.0                    1.3                    0.3   \n",
       "1          4.0                    0.0                    0.0   \n",
       "2          4.0                    0.0                    0.0   \n",
       "3          4.0                    0.0                    0.0   \n",
       "4         80.6                    0.0                    0.0   \n",
       "\n",
       "   tuition_out_com_college cert_enroll_2004-5  open_enrollment_in  tuition_in  \\\n",
       "0                      1.0              832.3                43.0         0.0   \n",
       "1                      2.0              346.4                18.0         0.0   \n",
       "2                      5.0           1,414.70               147.5         9.0   \n",
       "3                      0.0              550.1                45.0         0.0   \n",
       "4                      0.0              253.2                 6.0         1.0   \n",
       "\n",
       "   out_of_state_in total_served_enrollment  sup_weighting  lep_weighting  \\\n",
       "0                0                   713.3           1.23           2.20   \n",
       "1                0                   341.4           0.00           0.00   \n",
       "2                0                1,485.10           0.30           0.44   \n",
       "3               63                   626.1           0.00           0.00   \n",
       "4                0                   115.5           2.60           1.76   \n",
       "\n",
       "  residents_in_accred_nonpublics tech_requests_nonpublics phase_i_teacher_fte  \n",
       "0                             19                       62                66.5  \n",
       "1                              0                        0               31.88  \n",
       "2                             15                        0              120.12  \n",
       "3                             11                        0                52.5  \n",
       "4                              5                        0               18.25  "
      ]
     },
     "execution_count": 37,
     "metadata": {},
     "output_type": "execute_result"
    }
   ],
   "source": [
    "four_five.head()"
   ]
  },
  {
   "cell_type": "markdown",
   "metadata": {},
   "source": [
    "Checking five_six"
   ]
  },
  {
   "cell_type": "code",
   "execution_count": 38,
   "metadata": {},
   "outputs": [
    {
     "name": "stdout",
     "output_type": "stream",
     "text": [
      "<class 'pandas.core.frame.DataFrame'>\n",
      "RangeIndex: 365 entries, 0 to 364\n",
      "Data columns (total 17 columns):\n",
      "district                          365 non-null object\n",
      "resident_students_in_district     365 non-null object\n",
      "open_enrollment_out               365 non-null float64\n",
      "tuition_out                       365 non-null float64\n",
      "nonpublic_shared_time             365 non-null float64\n",
      "public_institution_pt             365 non-null float64\n",
      "tuition_out_com_college           365 non-null float64\n",
      "cert_enroll_2005-6                365 non-null object\n",
      "open_enrollment_in                365 non-null float64\n",
      "tuition_in                        365 non-null float64\n",
      "out_of_state_in                   365 non-null int64\n",
      "total_served_enrollment           365 non-null object\n",
      "sup_weighting                     365 non-null float64\n",
      "lep_weighting                     365 non-null float64\n",
      "residents_in_accred_nonpublics    365 non-null object\n",
      "tech_requests_nonpublics          365 non-null object\n",
      "phase_i_teacher_fte               365 non-null object\n",
      "dtypes: float64(9), int64(1), object(7)\n",
      "memory usage: 48.5+ KB\n"
     ]
    }
   ],
   "source": [
    "five_six.info()"
   ]
  },
  {
   "cell_type": "code",
   "execution_count": 39,
   "metadata": {},
   "outputs": [
    {
     "data": {
      "text/html": [
       "<div>\n",
       "<style>\n",
       "    .dataframe thead tr:only-child th {\n",
       "        text-align: right;\n",
       "    }\n",
       "\n",
       "    .dataframe thead th {\n",
       "        text-align: left;\n",
       "    }\n",
       "\n",
       "    .dataframe tbody tr th {\n",
       "        vertical-align: top;\n",
       "    }\n",
       "</style>\n",
       "<table border=\"1\" class=\"dataframe\">\n",
       "  <thead>\n",
       "    <tr style=\"text-align: right;\">\n",
       "      <th></th>\n",
       "      <th>district</th>\n",
       "      <th>resident_students_in_district</th>\n",
       "      <th>open_enrollment_out</th>\n",
       "      <th>tuition_out</th>\n",
       "      <th>nonpublic_shared_time</th>\n",
       "      <th>public_institution_pt</th>\n",
       "      <th>tuition_out_com_college</th>\n",
       "      <th>cert_enroll_2005-6</th>\n",
       "      <th>open_enrollment_in</th>\n",
       "      <th>tuition_in</th>\n",
       "      <th>out_of_state_in</th>\n",
       "      <th>total_served_enrollment</th>\n",
       "      <th>sup_weighting</th>\n",
       "      <th>lep_weighting</th>\n",
       "      <th>residents_in_accred_nonpublics</th>\n",
       "      <th>tech_requests_nonpublics</th>\n",
       "      <th>phase_i_teacher_fte</th>\n",
       "    </tr>\n",
       "  </thead>\n",
       "  <tbody>\n",
       "    <tr>\n",
       "      <th>0</th>\n",
       "      <td>AGWSR</td>\n",
       "      <td>626.9</td>\n",
       "      <td>136.2</td>\n",
       "      <td>10.0</td>\n",
       "      <td>0.5</td>\n",
       "      <td>1.4</td>\n",
       "      <td>3.0</td>\n",
       "      <td>778.0</td>\n",
       "      <td>52.0</td>\n",
       "      <td>0.0</td>\n",
       "      <td>0</td>\n",
       "      <td>680.8</td>\n",
       "      <td>1.26</td>\n",
       "      <td>5.50</td>\n",
       "      <td>21</td>\n",
       "      <td>71</td>\n",
       "      <td>67.38</td>\n",
       "    </tr>\n",
       "    <tr>\n",
       "      <th>1</th>\n",
       "      <td>ADAIR-CASEY</td>\n",
       "      <td>319.7</td>\n",
       "      <td>19.0</td>\n",
       "      <td>3.0</td>\n",
       "      <td>0.0</td>\n",
       "      <td>0.0</td>\n",
       "      <td>2.0</td>\n",
       "      <td>343.7</td>\n",
       "      <td>18.0</td>\n",
       "      <td>0.0</td>\n",
       "      <td>0</td>\n",
       "      <td>337.7</td>\n",
       "      <td>0.00</td>\n",
       "      <td>0.00</td>\n",
       "      <td>0</td>\n",
       "      <td>0</td>\n",
       "      <td>31.62</td>\n",
       "    </tr>\n",
       "    <tr>\n",
       "      <th>2</th>\n",
       "      <td>ADEL-DESOTO-MINBURN</td>\n",
       "      <td>1,319.2</td>\n",
       "      <td>93.1</td>\n",
       "      <td>6.0</td>\n",
       "      <td>0.0</td>\n",
       "      <td>0.1</td>\n",
       "      <td>6.0</td>\n",
       "      <td>1,424.4</td>\n",
       "      <td>150.3</td>\n",
       "      <td>8.0</td>\n",
       "      <td>2</td>\n",
       "      <td>1,479.6</td>\n",
       "      <td>1.01</td>\n",
       "      <td>0.88</td>\n",
       "      <td>18</td>\n",
       "      <td>0</td>\n",
       "      <td>118.31</td>\n",
       "    </tr>\n",
       "    <tr>\n",
       "      <th>3</th>\n",
       "      <td>AKRON WESTFIELD</td>\n",
       "      <td>509.7</td>\n",
       "      <td>25.0</td>\n",
       "      <td>3.0</td>\n",
       "      <td>0.0</td>\n",
       "      <td>0.0</td>\n",
       "      <td>0.0</td>\n",
       "      <td>537.7</td>\n",
       "      <td>45.0</td>\n",
       "      <td>2.0</td>\n",
       "      <td>67</td>\n",
       "      <td>623.7</td>\n",
       "      <td>0.00</td>\n",
       "      <td>0.00</td>\n",
       "      <td>11</td>\n",
       "      <td>0</td>\n",
       "      <td>52.30</td>\n",
       "    </tr>\n",
       "    <tr>\n",
       "      <th>4</th>\n",
       "      <td>ALBERT CITY-TRUESDALE</td>\n",
       "      <td>85.4</td>\n",
       "      <td>66.2</td>\n",
       "      <td>87.1</td>\n",
       "      <td>0.0</td>\n",
       "      <td>0.0</td>\n",
       "      <td>0.0</td>\n",
       "      <td>238.7</td>\n",
       "      <td>5.0</td>\n",
       "      <td>0.0</td>\n",
       "      <td>0</td>\n",
       "      <td>90.4</td>\n",
       "      <td>1.90</td>\n",
       "      <td>1.32</td>\n",
       "      <td>3</td>\n",
       "      <td>0</td>\n",
       "      <td>13.20</td>\n",
       "    </tr>\n",
       "  </tbody>\n",
       "</table>\n",
       "</div>"
      ],
      "text/plain": [
       "                district resident_students_in_district  open_enrollment_out  \\\n",
       "0                  AGWSR                         626.9                136.2   \n",
       "1            ADAIR-CASEY                         319.7                 19.0   \n",
       "2    ADEL-DESOTO-MINBURN                       1,319.2                 93.1   \n",
       "3        AKRON WESTFIELD                         509.7                 25.0   \n",
       "4  ALBERT CITY-TRUESDALE                          85.4                 66.2   \n",
       "\n",
       "   tuition_out  nonpublic_shared_time  public_institution_pt  \\\n",
       "0         10.0                    0.5                    1.4   \n",
       "1          3.0                    0.0                    0.0   \n",
       "2          6.0                    0.0                    0.1   \n",
       "3          3.0                    0.0                    0.0   \n",
       "4         87.1                    0.0                    0.0   \n",
       "\n",
       "   tuition_out_com_college cert_enroll_2005-6  open_enrollment_in  tuition_in  \\\n",
       "0                      3.0              778.0                52.0         0.0   \n",
       "1                      2.0              343.7                18.0         0.0   \n",
       "2                      6.0            1,424.4               150.3         8.0   \n",
       "3                      0.0              537.7                45.0         2.0   \n",
       "4                      0.0              238.7                 5.0         0.0   \n",
       "\n",
       "   out_of_state_in total_served_enrollment  sup_weighting  lep_weighting  \\\n",
       "0                0                   680.8           1.26           5.50   \n",
       "1                0                   337.7           0.00           0.00   \n",
       "2                2                 1,479.6           1.01           0.88   \n",
       "3               67                   623.7           0.00           0.00   \n",
       "4                0                    90.4           1.90           1.32   \n",
       "\n",
       "  residents_in_accred_nonpublics tech_requests_nonpublics phase_i_teacher_fte  \n",
       "0                             21                       71               67.38  \n",
       "1                              0                        0               31.62  \n",
       "2                             18                        0              118.31  \n",
       "3                             11                        0               52.30  \n",
       "4                              3                        0               13.20  "
      ]
     },
     "execution_count": 39,
     "metadata": {},
     "output_type": "execute_result"
    }
   ],
   "source": [
    "five_six.head()"
   ]
  },
  {
   "cell_type": "markdown",
   "metadata": {},
   "source": [
    "Checking six_seven"
   ]
  },
  {
   "cell_type": "code",
   "execution_count": 40,
   "metadata": {},
   "outputs": [
    {
     "name": "stdout",
     "output_type": "stream",
     "text": [
      "<class 'pandas.core.frame.DataFrame'>\n",
      "RangeIndex: 365 entries, 0 to 364\n",
      "Data columns (total 17 columns):\n",
      "district                          365 non-null object\n",
      "resident_students_in_district     365 non-null object\n",
      "open_enrollment_out               365 non-null object\n",
      "tuition_out                       365 non-null float64\n",
      "nonpublic_shared_time             365 non-null float64\n",
      "public_institution_pt             365 non-null float64\n",
      "tuition_out_com_college           365 non-null float64\n",
      "cert_enroll_2006-7                365 non-null object\n",
      "open_enrollment_in                365 non-null float64\n",
      "tuition_in                        365 non-null float64\n",
      "out_of_state_in                   365 non-null float64\n",
      "total_served_enrollment           365 non-null object\n",
      "sup_weighting                     365 non-null float64\n",
      "lep_weighting                     365 non-null float64\n",
      "residents_in_accred_nonpublics    365 non-null object\n",
      "tech_requests_nonpublics          365 non-null object\n",
      "phase_i_teacher_fte               365 non-null object\n",
      "dtypes: float64(9), object(8)\n",
      "memory usage: 48.5+ KB\n"
     ]
    }
   ],
   "source": [
    "six_seven.info()"
   ]
  },
  {
   "cell_type": "code",
   "execution_count": 41,
   "metadata": {},
   "outputs": [
    {
     "ename": "NameError",
     "evalue": "name 'six' is not defined",
     "output_type": "error",
     "traceback": [
      "\u001b[0;31m---------------------------------------------------------------------------\u001b[0m",
      "\u001b[0;31mNameError\u001b[0m                                 Traceback (most recent call last)",
      "\u001b[0;32m<ipython-input-41-0d6121ec8f2c>\u001b[0m in \u001b[0;36m<module>\u001b[0;34m()\u001b[0m\n\u001b[0;32m----> 1\u001b[0;31m \u001b[0msix\u001b[0m\u001b[0;34m.\u001b[0m\u001b[0mseven\u001b[0m\u001b[0;34m.\u001b[0m\u001b[0mhead\u001b[0m\u001b[0;34m(\u001b[0m\u001b[0;34m)\u001b[0m\u001b[0;34m\u001b[0m\u001b[0m\n\u001b[0m",
      "\u001b[0;31mNameError\u001b[0m: name 'six' is not defined"
     ]
    }
   ],
   "source": [
    "six.seven.head()"
   ]
  },
  {
   "cell_type": "code",
   "execution_count": null,
   "metadata": {},
   "outputs": [],
   "source": [
    "six_seven.head()"
   ]
  },
  {
   "cell_type": "markdown",
   "metadata": {},
   "source": [
    "Checking seven_eight"
   ]
  },
  {
   "cell_type": "code",
   "execution_count": null,
   "metadata": {},
   "outputs": [],
   "source": [
    "seven_eight.head()"
   ]
  },
  {
   "cell_type": "code",
   "execution_count": null,
   "metadata": {},
   "outputs": [],
   "source": [
    "seven_eight.info()"
   ]
  },
  {
   "cell_type": "markdown",
   "metadata": {},
   "source": [
    "Checking eight_nine"
   ]
  },
  {
   "cell_type": "code",
   "execution_count": null,
   "metadata": {},
   "outputs": [],
   "source": [
    "eight_nine.info()"
   ]
  },
  {
   "cell_type": "code",
   "execution_count": null,
   "metadata": {},
   "outputs": [],
   "source": [
    "eight_nine.head()"
   ]
  },
  {
   "cell_type": "markdown",
   "metadata": {},
   "source": [
    "Checking nine_ten"
   ]
  },
  {
   "cell_type": "code",
   "execution_count": null,
   "metadata": {},
   "outputs": [],
   "source": [
    "nine_ten.info()\n",
    "# note: null is Deep River-Millersburg"
   ]
  },
  {
   "cell_type": "code",
   "execution_count": null,
   "metadata": {},
   "outputs": [],
   "source": [
    "nine_ten.head()"
   ]
  },
  {
   "cell_type": "markdown",
   "metadata": {},
   "source": [
    "Checking ten_eleven"
   ]
  },
  {
   "cell_type": "code",
   "execution_count": null,
   "metadata": {},
   "outputs": [],
   "source": [
    "ten_eleven.info()"
   ]
  },
  {
   "cell_type": "code",
   "execution_count": null,
   "metadata": {},
   "outputs": [],
   "source": [
    "ten_eleven.head()"
   ]
  },
  {
   "cell_type": "markdown",
   "metadata": {},
   "source": [
    "Checking eleven_twelve"
   ]
  },
  {
   "cell_type": "code",
   "execution_count": null,
   "metadata": {},
   "outputs": [],
   "source": [
    "eleven_twelve.info()"
   ]
  },
  {
   "cell_type": "code",
   "execution_count": null,
   "metadata": {},
   "outputs": [],
   "source": [
    "eleven_twelve.head()"
   ]
  },
  {
   "cell_type": "markdown",
   "metadata": {},
   "source": [
    "Checking twelve_thirteen"
   ]
  },
  {
   "cell_type": "code",
   "execution_count": null,
   "metadata": {},
   "outputs": [],
   "source": [
    "twelve_thirteen.head()"
   ]
  },
  {
   "cell_type": "code",
   "execution_count": null,
   "metadata": {},
   "outputs": [],
   "source": [
    "twelve_thirteen.info()"
   ]
  },
  {
   "cell_type": "markdown",
   "metadata": {},
   "source": [
    "Checking thirteen_fourteen"
   ]
  },
  {
   "cell_type": "code",
   "execution_count": null,
   "metadata": {},
   "outputs": [],
   "source": [
    "thirteen_fourteen.info()"
   ]
  },
  {
   "cell_type": "code",
   "execution_count": null,
   "metadata": {},
   "outputs": [],
   "source": [
    "thirteen_fourteen.head()"
   ]
  },
  {
   "cell_type": "markdown",
   "metadata": {},
   "source": [
    "Checking fourteen_fifteen"
   ]
  },
  {
   "cell_type": "code",
   "execution_count": null,
   "metadata": {},
   "outputs": [],
   "source": [
    "fourteen_fifteen.info()"
   ]
  },
  {
   "cell_type": "code",
   "execution_count": null,
   "metadata": {},
   "outputs": [],
   "source": [
    "fourteen_fifteen.head()"
   ]
  },
  {
   "cell_type": "markdown",
   "metadata": {},
   "source": [
    "Checking fifteen_sixteen"
   ]
  },
  {
   "cell_type": "code",
   "execution_count": null,
   "metadata": {},
   "outputs": [],
   "source": [
    "fifteen_sixteen.info()"
   ]
  },
  {
   "cell_type": "code",
   "execution_count": null,
   "metadata": {},
   "outputs": [],
   "source": [
    "fifteen_sixteen.head()"
   ]
  },
  {
   "cell_type": "markdown",
   "metadata": {},
   "source": [
    "Checking sixteen_seventeen"
   ]
  },
  {
   "cell_type": "code",
   "execution_count": null,
   "metadata": {},
   "outputs": [],
   "source": [
    "sixteen_seventeen.info()"
   ]
  },
  {
   "cell_type": "code",
   "execution_count": null,
   "metadata": {},
   "outputs": [],
   "source": [
    "sixteen_seventeen.info()"
   ]
  },
  {
   "cell_type": "code",
   "execution_count": null,
   "metadata": {
    "collapsed": true
   },
   "outputs": [],
   "source": [
    "merged = pd.merge(zero_one, one_two, on=\"district\")"
   ]
  },
  {
   "cell_type": "code",
   "execution_count": null,
   "metadata": {},
   "outputs": [],
   "source": [
    "merged.head()"
   ]
  },
  {
   "cell_type": "code",
   "execution_count": null,
   "metadata": {
    "collapsed": true
   },
   "outputs": [],
   "source": [
    "merged2 = pd.merge(zero_one, fifteen_sixteen, on=\"district\")"
   ]
  },
  {
   "cell_type": "code",
   "execution_count": null,
   "metadata": {},
   "outputs": [],
   "source": [
    "merged2.head()"
   ]
  },
  {
   "cell_type": "code",
   "execution_count": null,
   "metadata": {},
   "outputs": [],
   "source": [
    "fifteen_sixteen.head()"
   ]
  },
  {
   "cell_type": "code",
   "execution_count": null,
   "metadata": {
    "collapsed": true
   },
   "outputs": [],
   "source": [
    "# getting rid of dashes in district names\n",
    "zero_one[\"district\"] = zero_one[\"district\"].str.replace(\"-\",\"\")"
   ]
  },
  {
   "cell_type": "code",
   "execution_count": null,
   "metadata": {
    "collapsed": true
   },
   "outputs": [],
   "source": [
    "# getting rid of spaces in district names\n",
    "zero_one[\"district\"] = zero_one[\"district\"].str.replace(\" \",\"\")"
   ]
  },
  {
   "cell_type": "code",
   "execution_count": null,
   "metadata": {
    "collapsed": true
   },
   "outputs": [],
   "source": [
    "# upper\n",
    "zero_one[\"district\"] = zero_one[\"district\"].str.upper()"
   ]
  },
  {
   "cell_type": "code",
   "execution_count": null,
   "metadata": {},
   "outputs": [],
   "source": [
    "zero_one.district"
   ]
  },
  {
   "cell_type": "code",
   "execution_count": null,
   "metadata": {
    "collapsed": true
   },
   "outputs": [],
   "source": [
    "# cleaning string for all:\n",
    "one_two[\"district\"] = one_two[\"district\"].str.replace(\"-\",\"\").str.replace(\" \",\"\").str.upper()"
   ]
  },
  {
   "cell_type": "code",
   "execution_count": null,
   "metadata": {},
   "outputs": [],
   "source": [
    "one_two.district"
   ]
  },
  {
   "cell_type": "code",
   "execution_count": null,
   "metadata": {
    "collapsed": true
   },
   "outputs": [],
   "source": [
    "# cleaning all district columns\n",
    "two_three[\"district\"] = two_three[\"district\"].str.replace(\"-\",\"\").str.replace(\" \",\"\").str.upper()\n",
    "three_four[\"district\"] = three_four[\"district\"].str.replace(\"-\",\"\").str.replace(\" \",\"\").str.upper()\n",
    "four_five[\"district\"] = four_five[\"district\"].str.replace(\"-\",\"\").str.replace(\" \",\"\").str.upper()\n",
    "five_six[\"district\"] = five_six[\"district\"].str.replace(\"-\",\"\").str.replace(\" \",\"\").str.upper()\n",
    "six_seven[\"district\"] = six_seven[\"district\"].str.replace(\"-\",\"\").str.replace(\" \",\"\").str.upper()\n",
    "seven_eight[\"district\"] = seven_eight[\"district\"].str.replace(\"-\",\"\").str.replace(\" \",\"\").str.upper()\n",
    "eight_nine[\"district\"] = eight_nine[\"district\"].str.replace(\"-\",\"\").str.replace(\" \",\"\").str.upper()\n",
    "nine_ten[\"district\"] = nine_ten[\"district\"].str.replace(\"-\",\"\").str.replace(\" \",\"\").str.upper()\n",
    "ten_eleven[\"district\"] = ten_eleven[\"district\"].str.replace(\"-\",\"\").str.replace(\" \",\"\").str.upper()\n",
    "eleven_twelve[\"district\"] = eleven_twelve[\"district\"].str.replace(\"-\",\"\").str.replace(\" \",\"\").str.upper()\n",
    "twelve_thirteen[\"district\"] = twelve_thirteen[\"district\"].str.replace(\"-\",\"\").str.replace(\" \",\"\").str.upper()\n",
    "thirteen_fourteen[\"district\"] = thirteen_fourteen[\"district\"].str.replace(\"-\",\"\").str.replace(\" \",\"\").str.upper()\n",
    "fourteen_fifteen[\"district\"] = fourteen_fifteen[\"district\"].str.replace(\"-\",\"\").str.replace(\" \",\"\").str.upper()\n",
    "fifteen_sixteen[\"district\"] = fifteen_sixteen[\"district\"].str.replace(\"-\",\"\").str.replace(\" \",\"\").str.upper()\n",
    "sixteen_seventeen[\"district\"] = sixteen_seventeen[\"district\"].str.replace(\"-\",\"\").str.replace(\" \",\"\").str.upper()"
   ]
  },
  {
   "cell_type": "code",
   "execution_count": 65,
   "metadata": {},
   "outputs": [],
   "source": [
    "# renaming cert_enroll_ columns enroll_x_x\n",
    "one_two = one_two = one_two.rename(columns={\"cert_enroll_2000-1\": \"enroll_one_two\"})\n"
   ]
  },
  {
   "cell_type": "code",
   "execution_count": 66,
   "metadata": {},
   "outputs": [],
   "source": [
    "two_three = two_three.rename(columns={\"cert_enroll_2002-3\": \"enroll_two_three\"})\n",
    "\n"
   ]
  },
  {
   "cell_type": "code",
   "execution_count": 67,
   "metadata": {},
   "outputs": [],
   "source": [
    "three_four = three_four.rename(columns={\"cert_enroll_2003-4\": \"enroll_three_four\"})\n",
    "\n",
    "\n"
   ]
  },
  {
   "cell_type": "code",
   "execution_count": 68,
   "metadata": {},
   "outputs": [],
   "source": [
    "four_five = four_five.rename(columns={\"cert_enroll_2004-5\": \"enroll_four_five\"})\n"
   ]
  },
  {
   "cell_type": "code",
   "execution_count": 69,
   "metadata": {},
   "outputs": [],
   "source": [
    "five_six = five_six.rename(columns={\"cert_enroll_2005-6\": \"enroll_five_six\"})\n"
   ]
  },
  {
   "cell_type": "code",
   "execution_count": 70,
   "metadata": {},
   "outputs": [],
   "source": [
    "six_seven = six_seven.rename(columns={\"cert_enroll_2006-7\": \"enroll_six_seven\"})\n"
   ]
  },
  {
   "cell_type": "code",
   "execution_count": 71,
   "metadata": {},
   "outputs": [],
   "source": [
    "seven_eight = seven_eight.rename(columns={\"cert_enroll_2007-8\": \"enroll_seven_eight\"})\n"
   ]
  },
  {
   "cell_type": "code",
   "execution_count": 72,
   "metadata": {},
   "outputs": [],
   "source": [
    "eight_nine = eight_nine.rename(columns={\"cert_enroll_2008-9\": \"enroll_eight_nine\"})\n"
   ]
  },
  {
   "cell_type": "code",
   "execution_count": 73,
   "metadata": {},
   "outputs": [],
   "source": [
    "nine_ten = nine_ten.rename(columns={\"cert_enroll_2009-10\": \"enroll_nine_ten\"})\n"
   ]
  },
  {
   "cell_type": "code",
   "execution_count": 74,
   "metadata": {},
   "outputs": [],
   "source": [
    "ten_eleven = ten_eleven.rename(columns={\"cert_enroll_2010-11\": \"enroll_ten_eleven\"})\n"
   ]
  },
  {
   "cell_type": "code",
   "execution_count": 75,
   "metadata": {},
   "outputs": [],
   "source": [
    "eleven_twelve = eleven_twelve.rename(columns={\"cert_enroll_2011-12\": \"enroll_eleven_twelve\"})\n"
   ]
  },
  {
   "cell_type": "code",
   "execution_count": 76,
   "metadata": {},
   "outputs": [],
   "source": [
    "twelve_thirteen = twelve_thirteen.rename(columns={\"cert_enroll_2012-13\": \"enroll_twelve_thirteen\"})\n"
   ]
  },
  {
   "cell_type": "code",
   "execution_count": 77,
   "metadata": {},
   "outputs": [],
   "source": [
    "thirteen_fourteen = thirteen_fourteen.rename(columns={\"cert_enroll_2013-14\": \"enroll_thirteen_fourteen\"})\n"
   ]
  },
  {
   "cell_type": "code",
   "execution_count": 78,
   "metadata": {},
   "outputs": [],
   "source": [
    "fourteen_fifteen = fourteen_fifteen.rename(columns={\"cert_enroll_2014-15\": \"enroll_fourteen_fifteen\"})\n"
   ]
  },
  {
   "cell_type": "code",
   "execution_count": 79,
   "metadata": {},
   "outputs": [],
   "source": [
    "fifteen_sixteen = fifteen_sixteen.rename(columns={\"cert_enroll_2015-16\": \"enroll_fifteen_sixteen\"})\n"
   ]
  },
  {
   "cell_type": "code",
   "execution_count": 80,
   "metadata": {},
   "outputs": [],
   "source": [
    "sixteen_seventeen = sixteen_seventeen.rename(columns={\"cert_enroll_2016-17\": \"enroll_sixteen_seventeen\"})"
   ]
  },
  {
   "cell_type": "code",
   "execution_count": 81,
   "metadata": {},
   "outputs": [
    {
     "ename": "KeyError",
     "evalue": "('district', 'enroll_zero_one')",
     "output_type": "error",
     "traceback": [
      "\u001b[0;31m---------------------------------------------------------------------------\u001b[0m",
      "\u001b[0;31mKeyError\u001b[0m                                  Traceback (most recent call last)",
      "\u001b[0;32m<ipython-input-81-603404e7fe05>\u001b[0m in \u001b[0;36m<module>\u001b[0;34m()\u001b[0m\n\u001b[0;32m----> 1\u001b[0;31m \u001b[0mzeroone\u001b[0m \u001b[0;34m=\u001b[0m \u001b[0mzero_one\u001b[0m\u001b[0;34m[\u001b[0m\u001b[0;34m\"district\"\u001b[0m\u001b[0;34m,\u001b[0m \u001b[0;34m\"enroll_zero_one\"\u001b[0m\u001b[0;34m]\u001b[0m\u001b[0;34m\u001b[0m\u001b[0m\n\u001b[0m",
      "\u001b[0;32m/Users/rilyneischens/Code/school/lib/python2.7/site-packages/pandas/core/frame.pyc\u001b[0m in \u001b[0;36m__getitem__\u001b[0;34m(self, key)\u001b[0m\n\u001b[1;32m   1962\u001b[0m             \u001b[0;32mreturn\u001b[0m \u001b[0mself\u001b[0m\u001b[0;34m.\u001b[0m\u001b[0m_getitem_multilevel\u001b[0m\u001b[0;34m(\u001b[0m\u001b[0mkey\u001b[0m\u001b[0;34m)\u001b[0m\u001b[0;34m\u001b[0m\u001b[0m\n\u001b[1;32m   1963\u001b[0m         \u001b[0;32melse\u001b[0m\u001b[0;34m:\u001b[0m\u001b[0;34m\u001b[0m\u001b[0m\n\u001b[0;32m-> 1964\u001b[0;31m             \u001b[0;32mreturn\u001b[0m \u001b[0mself\u001b[0m\u001b[0;34m.\u001b[0m\u001b[0m_getitem_column\u001b[0m\u001b[0;34m(\u001b[0m\u001b[0mkey\u001b[0m\u001b[0;34m)\u001b[0m\u001b[0;34m\u001b[0m\u001b[0m\n\u001b[0m\u001b[1;32m   1965\u001b[0m \u001b[0;34m\u001b[0m\u001b[0m\n\u001b[1;32m   1966\u001b[0m     \u001b[0;32mdef\u001b[0m \u001b[0m_getitem_column\u001b[0m\u001b[0;34m(\u001b[0m\u001b[0mself\u001b[0m\u001b[0;34m,\u001b[0m \u001b[0mkey\u001b[0m\u001b[0;34m)\u001b[0m\u001b[0;34m:\u001b[0m\u001b[0;34m\u001b[0m\u001b[0m\n",
      "\u001b[0;32m/Users/rilyneischens/Code/school/lib/python2.7/site-packages/pandas/core/frame.pyc\u001b[0m in \u001b[0;36m_getitem_column\u001b[0;34m(self, key)\u001b[0m\n\u001b[1;32m   1969\u001b[0m         \u001b[0;31m# get column\u001b[0m\u001b[0;34m\u001b[0m\u001b[0;34m\u001b[0m\u001b[0m\n\u001b[1;32m   1970\u001b[0m         \u001b[0;32mif\u001b[0m \u001b[0mself\u001b[0m\u001b[0;34m.\u001b[0m\u001b[0mcolumns\u001b[0m\u001b[0;34m.\u001b[0m\u001b[0mis_unique\u001b[0m\u001b[0;34m:\u001b[0m\u001b[0;34m\u001b[0m\u001b[0m\n\u001b[0;32m-> 1971\u001b[0;31m             \u001b[0;32mreturn\u001b[0m \u001b[0mself\u001b[0m\u001b[0;34m.\u001b[0m\u001b[0m_get_item_cache\u001b[0m\u001b[0;34m(\u001b[0m\u001b[0mkey\u001b[0m\u001b[0;34m)\u001b[0m\u001b[0;34m\u001b[0m\u001b[0m\n\u001b[0m\u001b[1;32m   1972\u001b[0m \u001b[0;34m\u001b[0m\u001b[0m\n\u001b[1;32m   1973\u001b[0m         \u001b[0;31m# duplicate columns & possible reduce dimensionality\u001b[0m\u001b[0;34m\u001b[0m\u001b[0;34m\u001b[0m\u001b[0m\n",
      "\u001b[0;32m/Users/rilyneischens/Code/school/lib/python2.7/site-packages/pandas/core/generic.pyc\u001b[0m in \u001b[0;36m_get_item_cache\u001b[0;34m(self, item)\u001b[0m\n\u001b[1;32m   1643\u001b[0m         \u001b[0mres\u001b[0m \u001b[0;34m=\u001b[0m \u001b[0mcache\u001b[0m\u001b[0;34m.\u001b[0m\u001b[0mget\u001b[0m\u001b[0;34m(\u001b[0m\u001b[0mitem\u001b[0m\u001b[0;34m)\u001b[0m\u001b[0;34m\u001b[0m\u001b[0m\n\u001b[1;32m   1644\u001b[0m         \u001b[0;32mif\u001b[0m \u001b[0mres\u001b[0m \u001b[0;32mis\u001b[0m \u001b[0mNone\u001b[0m\u001b[0;34m:\u001b[0m\u001b[0;34m\u001b[0m\u001b[0m\n\u001b[0;32m-> 1645\u001b[0;31m             \u001b[0mvalues\u001b[0m \u001b[0;34m=\u001b[0m \u001b[0mself\u001b[0m\u001b[0;34m.\u001b[0m\u001b[0m_data\u001b[0m\u001b[0;34m.\u001b[0m\u001b[0mget\u001b[0m\u001b[0;34m(\u001b[0m\u001b[0mitem\u001b[0m\u001b[0;34m)\u001b[0m\u001b[0;34m\u001b[0m\u001b[0m\n\u001b[0m\u001b[1;32m   1646\u001b[0m             \u001b[0mres\u001b[0m \u001b[0;34m=\u001b[0m \u001b[0mself\u001b[0m\u001b[0;34m.\u001b[0m\u001b[0m_box_item_values\u001b[0m\u001b[0;34m(\u001b[0m\u001b[0mitem\u001b[0m\u001b[0;34m,\u001b[0m \u001b[0mvalues\u001b[0m\u001b[0;34m)\u001b[0m\u001b[0;34m\u001b[0m\u001b[0m\n\u001b[1;32m   1647\u001b[0m             \u001b[0mcache\u001b[0m\u001b[0;34m[\u001b[0m\u001b[0mitem\u001b[0m\u001b[0;34m]\u001b[0m \u001b[0;34m=\u001b[0m \u001b[0mres\u001b[0m\u001b[0;34m\u001b[0m\u001b[0m\n",
      "\u001b[0;32m/Users/rilyneischens/Code/school/lib/python2.7/site-packages/pandas/core/internals.pyc\u001b[0m in \u001b[0;36mget\u001b[0;34m(self, item, fastpath)\u001b[0m\n\u001b[1;32m   3588\u001b[0m \u001b[0;34m\u001b[0m\u001b[0m\n\u001b[1;32m   3589\u001b[0m             \u001b[0;32mif\u001b[0m \u001b[0;32mnot\u001b[0m \u001b[0misnull\u001b[0m\u001b[0;34m(\u001b[0m\u001b[0mitem\u001b[0m\u001b[0;34m)\u001b[0m\u001b[0;34m:\u001b[0m\u001b[0;34m\u001b[0m\u001b[0m\n\u001b[0;32m-> 3590\u001b[0;31m                 \u001b[0mloc\u001b[0m \u001b[0;34m=\u001b[0m \u001b[0mself\u001b[0m\u001b[0;34m.\u001b[0m\u001b[0mitems\u001b[0m\u001b[0;34m.\u001b[0m\u001b[0mget_loc\u001b[0m\u001b[0;34m(\u001b[0m\u001b[0mitem\u001b[0m\u001b[0;34m)\u001b[0m\u001b[0;34m\u001b[0m\u001b[0m\n\u001b[0m\u001b[1;32m   3591\u001b[0m             \u001b[0;32melse\u001b[0m\u001b[0;34m:\u001b[0m\u001b[0;34m\u001b[0m\u001b[0m\n\u001b[1;32m   3592\u001b[0m                 \u001b[0mindexer\u001b[0m \u001b[0;34m=\u001b[0m \u001b[0mnp\u001b[0m\u001b[0;34m.\u001b[0m\u001b[0marange\u001b[0m\u001b[0;34m(\u001b[0m\u001b[0mlen\u001b[0m\u001b[0;34m(\u001b[0m\u001b[0mself\u001b[0m\u001b[0;34m.\u001b[0m\u001b[0mitems\u001b[0m\u001b[0;34m)\u001b[0m\u001b[0;34m)\u001b[0m\u001b[0;34m[\u001b[0m\u001b[0misnull\u001b[0m\u001b[0;34m(\u001b[0m\u001b[0mself\u001b[0m\u001b[0;34m.\u001b[0m\u001b[0mitems\u001b[0m\u001b[0;34m)\u001b[0m\u001b[0;34m]\u001b[0m\u001b[0;34m\u001b[0m\u001b[0m\n",
      "\u001b[0;32m/Users/rilyneischens/Code/school/lib/python2.7/site-packages/pandas/core/indexes/base.pyc\u001b[0m in \u001b[0;36mget_loc\u001b[0;34m(self, key, method, tolerance)\u001b[0m\n\u001b[1;32m   2442\u001b[0m                 \u001b[0;32mreturn\u001b[0m \u001b[0mself\u001b[0m\u001b[0;34m.\u001b[0m\u001b[0m_engine\u001b[0m\u001b[0;34m.\u001b[0m\u001b[0mget_loc\u001b[0m\u001b[0;34m(\u001b[0m\u001b[0mkey\u001b[0m\u001b[0;34m)\u001b[0m\u001b[0;34m\u001b[0m\u001b[0m\n\u001b[1;32m   2443\u001b[0m             \u001b[0;32mexcept\u001b[0m \u001b[0mKeyError\u001b[0m\u001b[0;34m:\u001b[0m\u001b[0;34m\u001b[0m\u001b[0m\n\u001b[0;32m-> 2444\u001b[0;31m                 \u001b[0;32mreturn\u001b[0m \u001b[0mself\u001b[0m\u001b[0;34m.\u001b[0m\u001b[0m_engine\u001b[0m\u001b[0;34m.\u001b[0m\u001b[0mget_loc\u001b[0m\u001b[0;34m(\u001b[0m\u001b[0mself\u001b[0m\u001b[0;34m.\u001b[0m\u001b[0m_maybe_cast_indexer\u001b[0m\u001b[0;34m(\u001b[0m\u001b[0mkey\u001b[0m\u001b[0;34m)\u001b[0m\u001b[0;34m)\u001b[0m\u001b[0;34m\u001b[0m\u001b[0m\n\u001b[0m\u001b[1;32m   2445\u001b[0m \u001b[0;34m\u001b[0m\u001b[0m\n\u001b[1;32m   2446\u001b[0m         \u001b[0mindexer\u001b[0m \u001b[0;34m=\u001b[0m \u001b[0mself\u001b[0m\u001b[0;34m.\u001b[0m\u001b[0mget_indexer\u001b[0m\u001b[0;34m(\u001b[0m\u001b[0;34m[\u001b[0m\u001b[0mkey\u001b[0m\u001b[0;34m]\u001b[0m\u001b[0;34m,\u001b[0m \u001b[0mmethod\u001b[0m\u001b[0;34m=\u001b[0m\u001b[0mmethod\u001b[0m\u001b[0;34m,\u001b[0m \u001b[0mtolerance\u001b[0m\u001b[0;34m=\u001b[0m\u001b[0mtolerance\u001b[0m\u001b[0;34m)\u001b[0m\u001b[0;34m\u001b[0m\u001b[0m\n",
      "\u001b[0;32mpandas/_libs/index.pyx\u001b[0m in \u001b[0;36mpandas._libs.index.IndexEngine.get_loc (pandas/_libs/index.c:5280)\u001b[0;34m()\u001b[0m\n",
      "\u001b[0;32mpandas/_libs/index.pyx\u001b[0m in \u001b[0;36mpandas._libs.index.IndexEngine.get_loc (pandas/_libs/index.c:5126)\u001b[0;34m()\u001b[0m\n",
      "\u001b[0;32mpandas/_libs/hashtable_class_helper.pxi\u001b[0m in \u001b[0;36mpandas._libs.hashtable.PyObjectHashTable.get_item (pandas/_libs/hashtable.c:20523)\u001b[0;34m()\u001b[0m\n",
      "\u001b[0;32mpandas/_libs/hashtable_class_helper.pxi\u001b[0m in \u001b[0;36mpandas._libs.hashtable.PyObjectHashTable.get_item (pandas/_libs/hashtable.c:20477)\u001b[0;34m()\u001b[0m\n",
      "\u001b[0;31mKeyError\u001b[0m: ('district', 'enroll_zero_one')"
     ]
    }
   ],
   "source": [
    "zeroone = zero_one[\"district\", \"enroll_zero_one\"]"
   ]
  },
  {
   "cell_type": "code",
   "execution_count": 82,
   "metadata": {},
   "outputs": [
    {
     "name": "stdout",
     "output_type": "stream",
     "text": [
      "<class 'pandas.core.frame.DataFrame'>\n",
      "RangeIndex: 374 entries, 0 to 373\n",
      "Data columns (total 17 columns):\n",
      "district                          374 non-null object\n",
      "resident_students_in_district     374 non-null object\n",
      "open_enrollment_out               374 non-null float64\n",
      "tuition_out                       374 non-null float64\n",
      "nonpublic_shared_time             374 non-null float64\n",
      "public_institution_pt             374 non-null float64\n",
      "tuition_out_com_college           374 non-null float64\n",
      "enroll_zero_one                   374 non-null object\n",
      "open_enrollment_in                374 non-null float64\n",
      "tuition_in                        374 non-null float64\n",
      "out_of_state_in                   374 non-null int64\n",
      "total_served_enrollment           374 non-null object\n",
      "sup_weighting                     374 non-null float64\n",
      "lep_weighting                     374 non-null float64\n",
      "residents_in_accred_nonpublics    293 non-null object\n",
      "tech_requests_nonpublics          100 non-null object\n",
      "phase_i_teacher_fte               374 non-null object\n",
      "dtypes: float64(9), int64(1), object(7)\n",
      "memory usage: 49.7+ KB\n"
     ]
    }
   ],
   "source": [
    "zero_one.info()"
   ]
  },
  {
   "cell_type": "code",
   "execution_count": 83,
   "metadata": {},
   "outputs": [
    {
     "name": "stdout",
     "output_type": "stream",
     "text": [
      "<class 'pandas.core.frame.DataFrame'>\n",
      "RangeIndex: 374 entries, 0 to 373\n",
      "Data columns (total 17 columns):\n",
      "district                          374 non-null object\n",
      "resident_students_in_district     374 non-null object\n",
      "open_enrollment_out               374 non-null float64\n",
      "tuition_out                       374 non-null float64\n",
      "nonpublic_shared_time             374 non-null float64\n",
      "public_institution_pt             374 non-null float64\n",
      "tuition_out_com_college           374 non-null float64\n",
      "enroll_zero_one                   374 non-null object\n",
      "open_enrollment_in                374 non-null float64\n",
      "tuition_in                        374 non-null float64\n",
      "out_of_state_in                   374 non-null int64\n",
      "total_served_enrollment           374 non-null object\n",
      "sup_weighting                     374 non-null float64\n",
      "lep_weighting                     374 non-null float64\n",
      "residents_in_accred_nonpublics    293 non-null object\n",
      "tech_requests_nonpublics          100 non-null object\n",
      "phase_i_teacher_fte               374 non-null object\n",
      "dtypes: float64(9), int64(1), object(7)\n",
      "memory usage: 49.7+ KB\n"
     ]
    }
   ],
   "source": [
    "zero_one.info()"
   ]
  },
  {
   "cell_type": "code",
   "execution_count": 62,
   "metadata": {},
   "outputs": [],
   "source": [
    "zeroone = zero_one[['district', 'enroll_zero_one']]"
   ]
  },
  {
   "cell_type": "code",
   "execution_count": 63,
   "metadata": {},
   "outputs": [
    {
     "name": "stdout",
     "output_type": "stream",
     "text": [
      "<class 'pandas.core.frame.DataFrame'>\n",
      "RangeIndex: 374 entries, 0 to 373\n",
      "Data columns (total 2 columns):\n",
      "district           374 non-null object\n",
      "enroll_zero_one    374 non-null object\n",
      "dtypes: object(2)\n",
      "memory usage: 5.9+ KB\n"
     ]
    }
   ],
   "source": [
    "zeroone.info()"
   ]
  },
  {
   "cell_type": "code",
   "execution_count": 84,
   "metadata": {},
   "outputs": [
    {
     "ename": "KeyError",
     "evalue": "\"['enroll_one_two'] not in index\"",
     "output_type": "error",
     "traceback": [
      "\u001b[0;31m---------------------------------------------------------------------------\u001b[0m",
      "\u001b[0;31mKeyError\u001b[0m                                  Traceback (most recent call last)",
      "\u001b[0;32m<ipython-input-84-937c23392478>\u001b[0m in \u001b[0;36m<module>\u001b[0;34m()\u001b[0m\n\u001b[0;32m----> 1\u001b[0;31m \u001b[0monetwo\u001b[0m \u001b[0;34m=\u001b[0m \u001b[0mone_two\u001b[0m\u001b[0;34m[\u001b[0m\u001b[0;34m[\u001b[0m\u001b[0;34m'district'\u001b[0m\u001b[0;34m,\u001b[0m \u001b[0;34m'enroll_one_two'\u001b[0m\u001b[0;34m]\u001b[0m\u001b[0;34m]\u001b[0m\u001b[0;34m\u001b[0m\u001b[0m\n\u001b[0m",
      "\u001b[0;32m/Users/rilyneischens/Code/school/lib/python2.7/site-packages/pandas/core/frame.pyc\u001b[0m in \u001b[0;36m__getitem__\u001b[0;34m(self, key)\u001b[0m\n\u001b[1;32m   1956\u001b[0m         \u001b[0;32mif\u001b[0m \u001b[0misinstance\u001b[0m\u001b[0;34m(\u001b[0m\u001b[0mkey\u001b[0m\u001b[0;34m,\u001b[0m \u001b[0;34m(\u001b[0m\u001b[0mSeries\u001b[0m\u001b[0;34m,\u001b[0m \u001b[0mnp\u001b[0m\u001b[0;34m.\u001b[0m\u001b[0mndarray\u001b[0m\u001b[0;34m,\u001b[0m \u001b[0mIndex\u001b[0m\u001b[0;34m,\u001b[0m \u001b[0mlist\u001b[0m\u001b[0;34m)\u001b[0m\u001b[0;34m)\u001b[0m\u001b[0;34m:\u001b[0m\u001b[0;34m\u001b[0m\u001b[0m\n\u001b[1;32m   1957\u001b[0m             \u001b[0;31m# either boolean or fancy integer index\u001b[0m\u001b[0;34m\u001b[0m\u001b[0;34m\u001b[0m\u001b[0m\n\u001b[0;32m-> 1958\u001b[0;31m             \u001b[0;32mreturn\u001b[0m \u001b[0mself\u001b[0m\u001b[0;34m.\u001b[0m\u001b[0m_getitem_array\u001b[0m\u001b[0;34m(\u001b[0m\u001b[0mkey\u001b[0m\u001b[0;34m)\u001b[0m\u001b[0;34m\u001b[0m\u001b[0m\n\u001b[0m\u001b[1;32m   1959\u001b[0m         \u001b[0;32melif\u001b[0m \u001b[0misinstance\u001b[0m\u001b[0;34m(\u001b[0m\u001b[0mkey\u001b[0m\u001b[0;34m,\u001b[0m \u001b[0mDataFrame\u001b[0m\u001b[0;34m)\u001b[0m\u001b[0;34m:\u001b[0m\u001b[0;34m\u001b[0m\u001b[0m\n\u001b[1;32m   1960\u001b[0m             \u001b[0;32mreturn\u001b[0m \u001b[0mself\u001b[0m\u001b[0;34m.\u001b[0m\u001b[0m_getitem_frame\u001b[0m\u001b[0;34m(\u001b[0m\u001b[0mkey\u001b[0m\u001b[0;34m)\u001b[0m\u001b[0;34m\u001b[0m\u001b[0m\n",
      "\u001b[0;32m/Users/rilyneischens/Code/school/lib/python2.7/site-packages/pandas/core/frame.pyc\u001b[0m in \u001b[0;36m_getitem_array\u001b[0;34m(self, key)\u001b[0m\n\u001b[1;32m   2000\u001b[0m             \u001b[0;32mreturn\u001b[0m \u001b[0mself\u001b[0m\u001b[0;34m.\u001b[0m\u001b[0mtake\u001b[0m\u001b[0;34m(\u001b[0m\u001b[0mindexer\u001b[0m\u001b[0;34m,\u001b[0m \u001b[0maxis\u001b[0m\u001b[0;34m=\u001b[0m\u001b[0;36m0\u001b[0m\u001b[0;34m,\u001b[0m \u001b[0mconvert\u001b[0m\u001b[0;34m=\u001b[0m\u001b[0mFalse\u001b[0m\u001b[0;34m)\u001b[0m\u001b[0;34m\u001b[0m\u001b[0m\n\u001b[1;32m   2001\u001b[0m         \u001b[0;32melse\u001b[0m\u001b[0;34m:\u001b[0m\u001b[0;34m\u001b[0m\u001b[0m\n\u001b[0;32m-> 2002\u001b[0;31m             \u001b[0mindexer\u001b[0m \u001b[0;34m=\u001b[0m \u001b[0mself\u001b[0m\u001b[0;34m.\u001b[0m\u001b[0mloc\u001b[0m\u001b[0;34m.\u001b[0m\u001b[0m_convert_to_indexer\u001b[0m\u001b[0;34m(\u001b[0m\u001b[0mkey\u001b[0m\u001b[0;34m,\u001b[0m \u001b[0maxis\u001b[0m\u001b[0;34m=\u001b[0m\u001b[0;36m1\u001b[0m\u001b[0;34m)\u001b[0m\u001b[0;34m\u001b[0m\u001b[0m\n\u001b[0m\u001b[1;32m   2003\u001b[0m             \u001b[0;32mreturn\u001b[0m \u001b[0mself\u001b[0m\u001b[0;34m.\u001b[0m\u001b[0mtake\u001b[0m\u001b[0;34m(\u001b[0m\u001b[0mindexer\u001b[0m\u001b[0;34m,\u001b[0m \u001b[0maxis\u001b[0m\u001b[0;34m=\u001b[0m\u001b[0;36m1\u001b[0m\u001b[0;34m,\u001b[0m \u001b[0mconvert\u001b[0m\u001b[0;34m=\u001b[0m\u001b[0mTrue\u001b[0m\u001b[0;34m)\u001b[0m\u001b[0;34m\u001b[0m\u001b[0m\n\u001b[1;32m   2004\u001b[0m \u001b[0;34m\u001b[0m\u001b[0m\n",
      "\u001b[0;32m/Users/rilyneischens/Code/school/lib/python2.7/site-packages/pandas/core/indexing.pyc\u001b[0m in \u001b[0;36m_convert_to_indexer\u001b[0;34m(self, obj, axis, is_setter)\u001b[0m\n\u001b[1;32m   1229\u001b[0m                 \u001b[0mmask\u001b[0m \u001b[0;34m=\u001b[0m \u001b[0mcheck\u001b[0m \u001b[0;34m==\u001b[0m \u001b[0;34m-\u001b[0m\u001b[0;36m1\u001b[0m\u001b[0;34m\u001b[0m\u001b[0m\n\u001b[1;32m   1230\u001b[0m                 \u001b[0;32mif\u001b[0m \u001b[0mmask\u001b[0m\u001b[0;34m.\u001b[0m\u001b[0many\u001b[0m\u001b[0;34m(\u001b[0m\u001b[0;34m)\u001b[0m\u001b[0;34m:\u001b[0m\u001b[0;34m\u001b[0m\u001b[0m\n\u001b[0;32m-> 1231\u001b[0;31m                     \u001b[0;32mraise\u001b[0m \u001b[0mKeyError\u001b[0m\u001b[0;34m(\u001b[0m\u001b[0;34m'%s not in index'\u001b[0m \u001b[0;34m%\u001b[0m \u001b[0mobjarr\u001b[0m\u001b[0;34m[\u001b[0m\u001b[0mmask\u001b[0m\u001b[0;34m]\u001b[0m\u001b[0;34m)\u001b[0m\u001b[0;34m\u001b[0m\u001b[0m\n\u001b[0m\u001b[1;32m   1232\u001b[0m \u001b[0;34m\u001b[0m\u001b[0m\n\u001b[1;32m   1233\u001b[0m                 \u001b[0;32mreturn\u001b[0m \u001b[0m_values_from_object\u001b[0m\u001b[0;34m(\u001b[0m\u001b[0mindexer\u001b[0m\u001b[0;34m)\u001b[0m\u001b[0;34m\u001b[0m\u001b[0m\n",
      "\u001b[0;31mKeyError\u001b[0m: \"['enroll_one_two'] not in index\""
     ]
    }
   ],
   "source": [
    "onetwo = one_two[['district', 'enroll_one_two']]"
   ]
  },
  {
   "cell_type": "code",
   "execution_count": 85,
   "metadata": {},
   "outputs": [
    {
     "name": "stdout",
     "output_type": "stream",
     "text": [
      "<class 'pandas.core.frame.DataFrame'>\n",
      "RangeIndex: 371 entries, 0 to 370\n",
      "Data columns (total 17 columns):\n",
      "district                          371 non-null object\n",
      "resident_students_in_district     371 non-null object\n",
      "open_enrollment_out               371 non-null float64\n",
      "tuition_out                       371 non-null float64\n",
      "nonpublic_shared_time             371 non-null float64\n",
      "public_institution_pt             371 non-null float64\n",
      "tuition_out_com_college           371 non-null float64\n",
      "cert_enroll_2001-2                371 non-null object\n",
      "open_enrollment_in                371 non-null float64\n",
      "tuition_in                        371 non-null float64\n",
      "out_of_state_in                   371 non-null int64\n",
      "total_served_enrollment           371 non-null object\n",
      "sup_weighting                     371 non-null float64\n",
      "lep_weighting                     371 non-null float64\n",
      "residents_in_accred_nonpublics    371 non-null object\n",
      "tech_requests_nonpublics          371 non-null object\n",
      "phase_i_teacher_fte               371 non-null object\n",
      "dtypes: float64(9), int64(1), object(7)\n",
      "memory usage: 49.3+ KB\n"
     ]
    }
   ],
   "source": [
    "one_two.info()"
   ]
  },
  {
   "cell_type": "code",
   "execution_count": null,
   "metadata": {},
   "outputs": [],
   "source": [
    "onetwo.head()"
   ]
  },
  {
   "cell_type": "code",
   "execution_count": null,
   "metadata": {
    "collapsed": true
   },
   "outputs": [],
   "source": [
    "twothree = two_three[['district', 'enroll_two_three']]"
   ]
  },
  {
   "cell_type": "code",
   "execution_count": null,
   "metadata": {
    "collapsed": true
   },
   "outputs": [],
   "source": [
    "threefour = three_four[['district', 'cert_enroll_2003-4']]"
   ]
  },
  {
   "cell_type": "code",
   "execution_count": null,
   "metadata": {
    "collapsed": true
   },
   "outputs": [],
   "source": [
    "fourfive = four_five[['district', 'cert_enroll_2004-5']]"
   ]
  },
  {
   "cell_type": "code",
   "execution_count": null,
   "metadata": {
    "collapsed": true
   },
   "outputs": [],
   "source": [
    "fivesix = five_six[['district', 'cert_enroll_2005-6']]"
   ]
  },
  {
   "cell_type": "code",
   "execution_count": null,
   "metadata": {
    "collapsed": true
   },
   "outputs": [],
   "source": [
    "sixseven = six_seven[['district', 'cert_enroll_2006-7']]"
   ]
  },
  {
   "cell_type": "code",
   "execution_count": null,
   "metadata": {
    "collapsed": true
   },
   "outputs": [],
   "source": [
    "seveneight = seven_eight[['district', 'cert_enroll_2007-8']]"
   ]
  },
  {
   "cell_type": "code",
   "execution_count": null,
   "metadata": {
    "collapsed": true
   },
   "outputs": [],
   "source": [
    "eightnine = eight_nine[['district', 'cert_enroll_2008-9']]"
   ]
  },
  {
   "cell_type": "code",
   "execution_count": null,
   "metadata": {
    "collapsed": true
   },
   "outputs": [],
   "source": [
    "nineten = nine_ten[['district', 'cert_enroll_2009-10']]"
   ]
  },
  {
   "cell_type": "code",
   "execution_count": null,
   "metadata": {
    "collapsed": true
   },
   "outputs": [],
   "source": [
    "teneleven = ten_eleven[['district', 'cert_enroll_2010-11']]"
   ]
  },
  {
   "cell_type": "code",
   "execution_count": null,
   "metadata": {
    "collapsed": true
   },
   "outputs": [],
   "source": [
    "eleventwelve = eleven_twelve[['district', 'cert_enroll_2011-12']]"
   ]
  },
  {
   "cell_type": "code",
   "execution_count": null,
   "metadata": {
    "collapsed": true
   },
   "outputs": [],
   "source": [
    "twelvethirteen = twelve_thirteen[['district', 'cert_enroll_2012-13']]"
   ]
  },
  {
   "cell_type": "code",
   "execution_count": null,
   "metadata": {
    "collapsed": true
   },
   "outputs": [],
   "source": [
    "thirteenfourteen = thirteen_fourteen[['district', 'cert_enroll_2013-14']]"
   ]
  },
  {
   "cell_type": "code",
   "execution_count": null,
   "metadata": {
    "collapsed": true
   },
   "outputs": [],
   "source": [
    "fourteenfifteen = fourteen_fifteen[['district', 'cert_enroll_2014-15']]"
   ]
  },
  {
   "cell_type": "code",
   "execution_count": null,
   "metadata": {
    "collapsed": true
   },
   "outputs": [],
   "source": [
    "fifteensixteen = fifteen_sixteen[['district', 'cert_enroll_2015-16']]"
   ]
  },
  {
   "cell_type": "code",
   "execution_count": null,
   "metadata": {
    "collapsed": true
   },
   "outputs": [],
   "source": [
    "sixteenseventeen = sixteen_seventeen[['district', 'cert_enroll_2016-17']]"
   ]
  },
  {
   "cell_type": "code",
   "execution_count": null,
   "metadata": {
    "collapsed": true
   },
   "outputs": [],
   "source": [
    "#merge\n",
    "# merged = pd.merge(zeroone, onetwo, twothree, threefour, fourfive, fivesix, sixseven, seveneight, eightnine, nineten, on=\"district\")"
   ]
  },
  {
   "cell_type": "code",
   "execution_count": null,
   "metadata": {
    "collapsed": true
   },
   "outputs": [],
   "source": [
    "#teneleven, eleventwelve, twelvethirteen, thirteenfourteen, fourteenfifteen, fifteensixteen, sixteenseventeen,"
   ]
  },
  {
   "cell_type": "code",
   "execution_count": null,
   "metadata": {
    "collapsed": true
   },
   "outputs": [],
   "source": [
    "merge1 = pd.merge(zeroone, onetwo, on='district')"
   ]
  },
  {
   "cell_type": "code",
   "execution_count": null,
   "metadata": {},
   "outputs": [],
   "source": [
    "merge1.info()"
   ]
  },
  {
   "cell_type": "code",
   "execution_count": null,
   "metadata": {
    "collapsed": true
   },
   "outputs": [],
   "source": [
    "merge2 = pd.merge(merge1, twothree, on=\"district\")"
   ]
  },
  {
   "cell_type": "code",
   "execution_count": null,
   "metadata": {},
   "outputs": [],
   "source": [
    "merge2.info()"
   ]
  },
  {
   "cell_type": "code",
   "execution_count": null,
   "metadata": {
    "collapsed": true
   },
   "outputs": [],
   "source": [
    "merge3 = pd.merge(merge2, threefour, on='district')"
   ]
  },
  {
   "cell_type": "code",
   "execution_count": null,
   "metadata": {},
   "outputs": [],
   "source": [
    "merge3.info()"
   ]
  },
  {
   "cell_type": "code",
   "execution_count": null,
   "metadata": {
    "collapsed": true
   },
   "outputs": [],
   "source": [
    "merge4 = pd.merge(merge3, fourfive, on=\"district\")"
   ]
  },
  {
   "cell_type": "code",
   "execution_count": null,
   "metadata": {},
   "outputs": [],
   "source": [
    "merge4.info()"
   ]
  },
  {
   "cell_type": "code",
   "execution_count": null,
   "metadata": {
    "collapsed": true
   },
   "outputs": [],
   "source": [
    "merge5 = pd.merge(merge4, fivesix, on='district')"
   ]
  },
  {
   "cell_type": "code",
   "execution_count": null,
   "metadata": {},
   "outputs": [],
   "source": [
    "merge5.info()"
   ]
  },
  {
   "cell_type": "code",
   "execution_count": null,
   "metadata": {
    "collapsed": true
   },
   "outputs": [],
   "source": [
    "merge6 = pd.merge(merge5, sixseven, on='district')"
   ]
  },
  {
   "cell_type": "code",
   "execution_count": null,
   "metadata": {},
   "outputs": [],
   "source": [
    "merge6.info()"
   ]
  },
  {
   "cell_type": "code",
   "execution_count": null,
   "metadata": {
    "collapsed": true
   },
   "outputs": [],
   "source": [
    "merge7 = pd.merge(merge6, seveneight, on='district')"
   ]
  },
  {
   "cell_type": "code",
   "execution_count": null,
   "metadata": {},
   "outputs": [],
   "source": [
    "merge7.info()"
   ]
  },
  {
   "cell_type": "code",
   "execution_count": null,
   "metadata": {
    "collapsed": true
   },
   "outputs": [],
   "source": [
    "merge8 = pd.merge(merge7, eightnine, on='district')"
   ]
  },
  {
   "cell_type": "code",
   "execution_count": null,
   "metadata": {},
   "outputs": [],
   "source": [
    "merge8.info()"
   ]
  },
  {
   "cell_type": "code",
   "execution_count": null,
   "metadata": {
    "collapsed": true
   },
   "outputs": [],
   "source": [
    "merge9 = pd.merge(merge8, nineten, on='district')"
   ]
  },
  {
   "cell_type": "code",
   "execution_count": null,
   "metadata": {},
   "outputs": [],
   "source": [
    "merge9.info()"
   ]
  },
  {
   "cell_type": "code",
   "execution_count": null,
   "metadata": {
    "collapsed": true
   },
   "outputs": [],
   "source": [
    "merge10 = pd.merge(merge9, teneleven, on='district')"
   ]
  },
  {
   "cell_type": "code",
   "execution_count": null,
   "metadata": {},
   "outputs": [],
   "source": [
    "merge10.info()"
   ]
  },
  {
   "cell_type": "code",
   "execution_count": null,
   "metadata": {
    "collapsed": true
   },
   "outputs": [],
   "source": [
    "merge11 = pd.merge(merge10, eleventwelve, on='district')"
   ]
  },
  {
   "cell_type": "code",
   "execution_count": null,
   "metadata": {},
   "outputs": [],
   "source": [
    "merge11.info()"
   ]
  },
  {
   "cell_type": "code",
   "execution_count": null,
   "metadata": {
    "collapsed": true
   },
   "outputs": [],
   "source": [
    "merge12 = pd.merge(merge11, twelvethirteen, on='district')"
   ]
  },
  {
   "cell_type": "code",
   "execution_count": null,
   "metadata": {},
   "outputs": [],
   "source": [
    "merge12.info()\n"
   ]
  },
  {
   "cell_type": "code",
   "execution_count": null,
   "metadata": {
    "collapsed": true
   },
   "outputs": [],
   "source": [
    "merge13 = pd.merge(merge12, thirteenfourteen, on='district')"
   ]
  },
  {
   "cell_type": "code",
   "execution_count": null,
   "metadata": {},
   "outputs": [],
   "source": [
    "merge13.info()"
   ]
  },
  {
   "cell_type": "code",
   "execution_count": null,
   "metadata": {
    "collapsed": true
   },
   "outputs": [],
   "source": [
    "merge14 = pd.merge(merge13, fourteenfifteen, on='district')"
   ]
  },
  {
   "cell_type": "code",
   "execution_count": null,
   "metadata": {},
   "outputs": [],
   "source": [
    "merge14.info()"
   ]
  },
  {
   "cell_type": "code",
   "execution_count": null,
   "metadata": {
    "collapsed": true
   },
   "outputs": [],
   "source": [
    "merge15 = pd.merge(merge14, fifteensixteen, on=\"district\")"
   ]
  },
  {
   "cell_type": "code",
   "execution_count": null,
   "metadata": {},
   "outputs": [],
   "source": [
    "merge15.info()"
   ]
  },
  {
   "cell_type": "code",
   "execution_count": null,
   "metadata": {
    "collapsed": true
   },
   "outputs": [],
   "source": [
    "merge16 = pd.merge(merge15, sixteenseventeen, on='district')"
   ]
  },
  {
   "cell_type": "code",
   "execution_count": null,
   "metadata": {},
   "outputs": [],
   "source": [
    "merge16.info()"
   ]
  },
  {
   "cell_type": "code",
   "execution_count": null,
   "metadata": {
    "collapsed": true
   },
   "outputs": [],
   "source": [
    "merge16.to_csv(\"/Users/rilyneischens/desktop/combo_enrollment.csv\")"
   ]
  },
  {
   "cell_type": "code",
   "execution_count": null,
   "metadata": {},
   "outputs": [],
   "source": [
    "merge16.district"
   ]
  },
  {
   "cell_type": "code",
   "execution_count": null,
   "metadata": {},
   "outputs": [],
   "source": [
    "sixteenseventeen.district"
   ]
  },
  {
   "cell_type": "code",
   "execution_count": null,
   "metadata": {},
   "outputs": [],
   "source": [
    "full_list = sixteenseventeen.district\n",
    "print(full_list)"
   ]
  },
  {
   "cell_type": "code",
   "execution_count": null,
   "metadata": {},
   "outputs": [],
   "source": [
    "# turning 16-17 district list into a list\n",
    "full_list.tolist()"
   ]
  },
  {
   "cell_type": "code",
   "execution_count": null,
   "metadata": {
    "collapsed": true
   },
   "outputs": [],
   "source": [
    "merge_district = merge16.district"
   ]
  },
  {
   "cell_type": "code",
   "execution_count": null,
   "metadata": {},
   "outputs": [],
   "source": [
    "merge_district.tolist()"
   ]
  },
  {
   "cell_type": "code",
   "execution_count": null,
   "metadata": {
    "collapsed": true
   },
   "outputs": [],
   "source": [
    "# if item in full_list is not in merge_district, print it out \n",
    "#def returnNotMatches():\n",
    "  #  a = set(a)\n",
    "  #  b = set(b)\n",
    "   # return [list(b - a), list(a - b)]"
   ]
  },
  {
   "cell_type": "code",
   "execution_count": null,
   "metadata": {
    "collapsed": true
   },
   "outputs": [],
   "source": [
    "# creating sets from the lists\n",
    "district1617 = set(full_list)"
   ]
  },
  {
   "cell_type": "code",
   "execution_count": null,
   "metadata": {
    "collapsed": true
   },
   "outputs": [],
   "source": [
    "mergedistrict = set(merge_district)"
   ]
  },
  {
   "cell_type": "code",
   "execution_count": null,
   "metadata": {
    "collapsed": true
   },
   "outputs": [],
   "source": []
  },
  {
   "cell_type": "code",
   "execution_count": null,
   "metadata": {
    "collapsed": true
   },
   "outputs": [],
   "source": [
    "# finding what is in the full list but not the merged one\n",
    "difference = list(set(full_list) - set(merge_district))"
   ]
  },
  {
   "cell_type": "code",
   "execution_count": null,
   "metadata": {},
   "outputs": [],
   "source": [
    "print(difference)"
   ]
  },
  {
   "cell_type": "code",
   "execution_count": null,
   "metadata": {
    "collapsed": true
   },
   "outputs": [],
   "source": [
    "missing = list(difference)"
   ]
  },
  {
   "cell_type": "code",
   "execution_count": null,
   "metadata": {},
   "outputs": [],
   "source": [
    "for row in sixteenseventeen:\n",
    "    if 'district' == 'clarinda':\n",
    "        print(enroll_sixteen_seventeen)\n",
    "    else:\n",
    "        print(\"nope\")"
   ]
  },
  {
   "cell_type": "code",
   "execution_count": null,
   "metadata": {
    "collapsed": true
   },
   "outputs": [],
   "source": [
    "# renaming cert_enroll_ columns enroll_x_x\n",
    "zero_one = zero_one.rename(columns={\"cert_enroll_2000-1\": \"enroll_zero_one\"})\n",
    "one_two = one_two.rename(columns={\"cert_enroll_2001-2\": \"enroll_one_two\"})\n",
    "two_three = one_two.rename(columns={\"cert_enroll_2001-2\": \"enroll_one_two\"})"
   ]
  },
  {
   "cell_type": "code",
   "execution_count": null,
   "metadata": {},
   "outputs": [],
   "source": [
    "zero_one.info()"
   ]
  },
  {
   "cell_type": "code",
   "execution_count": null,
   "metadata": {
    "collapsed": true
   },
   "outputs": [],
   "source": []
  }
 ],
 "metadata": {
  "kernelspec": {
   "display_name": "Python 2",
   "language": "python",
   "name": "python2"
  },
  "language_info": {
   "codemirror_mode": {
    "name": "ipython",
    "version": 2
   },
   "file_extension": ".py",
   "mimetype": "text/x-python",
   "name": "python",
   "nbconvert_exporter": "python",
   "pygments_lexer": "ipython2",
   "version": "2.7.10"
  }
 },
 "nbformat": 4,
 "nbformat_minor": 2
}
