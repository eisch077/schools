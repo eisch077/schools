{
 "cells": [
  {
   "cell_type": "markdown",
   "metadata": {},
   "source": [
    "# Functions, flow control, working with data files\n",
    "\n",
    "In this part, we're going to introduce you to reusable functions, basic file operations and conditional statements (sort of like =IF() statements in Excel), plus a few other flow-control tools."
   ]
  },
  {
   "cell_type": "markdown",
   "metadata": {},
   "source": [
    "### `if` statements\n",
    "\n",
    "Just like in Excel, you can use \"if [condition], do [thing]\" logic:\n",
    "\n",
    "```python\n",
    "if condition:\n",
    "    # do stuff here if logical test passes\n",
    "elif second_condition:\n",
    "    # if the first test fails, test a second condition -- if true, do stuff here\n",
    "    # (you can have multiple elif statements)\n",
    "else:\n",
    "    # the fallback if none of the conditions evaluate to True\n",
    "```\n",
    "\n",
    "The `condition` is any logical statement that returns a boolean value (True or False). For example:\n",
    "\n",
    "```python\n",
    "my_name = 'Cody'\n",
    "\n",
    "if my_name == 'Cody':\n",
    "    print('Hello, Cody!')\n",
    "else:\n",
    "    print('Hello, stranger!')\n",
    "```\n",
    "\n",
    "In this example, `my_name == 'Cody'` would return `True`, so the first branch would be executed.\n",
    "\n",
    "Notice the double equals sign. Using one equals sign assigns a value to a variable; using two compares one thing to another. The double equals is [just one of a handful of logical operators you can use to compare one thing to another and return a boolean value](https://docs.python.org/3/library/stdtypes.html#comparisons).\n",
    "\n",
    "You could, for instance, use the `in` operator to test if an item exists in a list:\n",
    "\n",
    "```python\n",
    "if 'Cody' in interns:\n",
    "    print('Hooray, I\\'m an intern!')\n",
    "else:\n",
    "    pass\n",
    "```\n",
    "\n",
    "This checks to see if any of the items in the `interns` list matches the string `'Cody'`. If there's a match, it prints something. If there isn't, it will [`pass`](https://docs.python.org/3/tutorial/controlflow.html#pass-statements) -- in other words, \"do nothing.\"\n",
    "\n",
    "One other thing to notice about this example: I'm using a backslash (`\\`) to _escape_ the apostrophe in the word \"I'm.\" Otherwise the print function would think that I was closing out the string I wanted to print, and it would throw an error.\n",
    "\n",
    "You can use `and` or `or` to test for multiple conditions:\n",
    "\n",
    "```python\n",
    "if 4 < 6 and sky == 'blue':\n",
    "    # do something\n",
    "\n",
    "if num.is_numeric() and num > 10:\n",
    "    # do something\n",
    "```\n",
    "\n",
    "Let's import `my_cool_vars` again **as** mcv. Now:\n",
    "\n",
    "- **Assign our list of interns, `mcv.djnf_interns` to the variable `interns`.**\n",
    "- **Assign the _number_ of interns in the list to a variable called `intern_count` (Hint: use the `len` function).**\n",
    "- **Now write an if/elif/else test to print out a statement telling us whether the number of interns is greater or less than 10, or 10 exactly, or something else.**"
   ]
  },
  {
   "cell_type": "code",
   "execution_count": null,
   "metadata": {
    "collapsed": true
   },
   "outputs": [],
   "source": [
    "import my_cool_vars as mcv\n",
    "\n",
    "interns = mcv.djnf_interns\n",
    "intern_count = len(interns)\n",
    "\n",
    "if intern_count > 10:\n",
    "    print('There are more than 10 interns')\n",
    "elif intern_count == 10:\n",
    "    print('There are exactly 10 interns')\n",
    "elif intern_count < 10:\n",
    "    print('There are fewer than 10 interns')\n",
    "else:\n",
    "    print('Something went wrong')"
   ]
  },
  {
   "cell_type": "markdown",
   "metadata": {},
   "source": [
    "### `for` loops\n",
    "\n",
    "Let's print out the names of all the interns in the list. Based on what we know so far, we'd have to do something like this:\n",
    "\n",
    "```python\n",
    "print(interns[0])\n",
    "print(interns[1])\n",
    "print(interns[2])\n",
    "print(interns[3])\n",
    "\n",
    "# etc.\n",
    "```\n",
    "\n",
    "Gross. Let's use a `for` loop instead.\n",
    "\n",
    "A `for` loop goes through every item in a list, whether it's got 10 items or 10,000, and does whatever you tell it to do to each item. The basic syntax is:\n",
    "\n",
    "```python\n",
    "for variable_that_you_define in your_list:\n",
    "    # do something to variable_that_you_define\n",
    "```\n",
    "\n",
    "`for` and `in` are special Python words. The `variable_that_you_define` is a variable that serves as your handle to each item in the list as the loop passes over it. The variable name can be anything -- `banana`, `freedom`, `crapulence`, whatever -- but it's good practice to use a variable name that describes what one individual list item is.\n",
    "\n",
    "**Write a `for` loop to print out each intern in the list we have saved as the variable `interns`.**"
   ]
  },
  {
   "cell_type": "code",
   "execution_count": null,
   "metadata": {
    "collapsed": true
   },
   "outputs": [],
   "source": [
    "for intern in interns:\n",
    "    print(intern)"
   ]
  },
  {
   "cell_type": "markdown",
   "metadata": {},
   "source": [
    "### Iterating over dictionaries\n",
    "\n",
    "You can also loop over dictionaries, but -- this is important! -- you can't guarantee that the order in which your loop grabs each item will be the same as the order in which you added things to the dictionary. (If you need to use a dictionary that preserves order, use an [OrderedDict](https://docs.python.org/3/library/collections.html#collections.OrderedDict) instead.)\n",
    "\n",
    "When you loop over a dictionary, the variable you define in the first line of your `for` loop is a reference the item's _key_. To get the item's _value_, you would use bracket notation to tell the loop to look up that key in the dictionary. (To make this clear to myself, I usually call the variable \"key.\") For example:\n",
    "\n",
    "```python\n",
    "var my_cool_dict = {'a': 1, 'b': 2, 'c': 3}\n",
    "\n",
    "for key in my_cool_dict:\n",
    "    print(key, '=>', my_cool_dict[key])  # prints 'a => 1' on first loop iteration\n",
    "```\n",
    "\n",
    "**Write a `for` loop that prints out the keys and values of `mcv.djnf_dict`**"
   ]
  },
  {
   "cell_type": "code",
   "execution_count": null,
   "metadata": {
    "collapsed": true
   },
   "outputs": [],
   "source": [
    "for key in mcv.djnf_dict:\n",
    "    print(key, mcv.djnf_dict[key])"
   ]
  },
  {
   "cell_type": "markdown",
   "metadata": {},
   "source": [
    "### Hollering 'Stop!' The `break` statement\n",
    "\n",
    "To break out of a `for` loop, use a [`break` statement](https://docs.python.org/3/reference/simple_stmts.html#the-break-statement).\n",
    "\n",
    "A common use case: You're looping over a big set of data, and once some condition is met -- a condition tested for with an `if` statement -- you want to stop the `for` loop instead of going all the way to the end."
   ]
  },
  {
   "cell_type": "markdown",
   "metadata": {},
   "source": [
    "### Enumeration\n",
    "\n",
    "Sometimes you need to know _where_ you are in the list you're looping over -- the index of the item as well as its value. To do this, use the [`enumerate()`](https://docs.python.org/3/library/functions.html#enumerate) function. Example:\n",
    "\n",
    "```python\n",
    "for idx, name in enumerate(interns):\n",
    "    print(idx, name)\n",
    "    # first iteration prints '0 Iuliia'\n",
    "```\n",
    "\n",
    "**Using a combination of `break` and `enumerate`, print the first five names in the `interns` list. (Don't forget that Python lists are zero-indexed.)**"
   ]
  },
  {
   "cell_type": "code",
   "execution_count": null,
   "metadata": {
    "collapsed": true
   },
   "outputs": [],
   "source": [
    "for idx, name in enumerate(interns):\n",
    "    if idx > 4:\n",
    "        break\n",
    "    print(name)"
   ]
  },
  {
   "cell_type": "markdown",
   "metadata": {},
   "source": [
    "### Significant whitespace is significant\n",
    "\n",
    "One of the fun (?!) things about Python is: whitespace matters, and your scripts will break if you don't follow the rules. You'll notice in our if/else and for loops that some lines are indented. Knowing when to indent -- and how much -- takes some practice.\n",
    "\n",
    "Without getting too deep into the weeds here, you need to make sure that your indentations are consistent -- [you can use tabs or spaces, just be consistent](https://www.youtube.com/watch?v=SsoOG6ZeyUI&feature=youtu.be&t=50s). The [~official~ Python style guide](https://www.python.org/dev/peps/pep-0008/) recommends using four spaces, so that's what I go with, but you do whatever makes you happy."
   ]
  },
  {
   "cell_type": "markdown",
   "metadata": {},
   "source": [
    "### Functions\n",
    "\n",
    "If you find yourself repeating the same set of operations at different points in your code, it's probably time to write a function. We've already used some built-in functions like `print()`. But you can also write your own, and doing so can help you keep your code tidy.\n",
    "\n",
    "You could write a function that takes a number and returns that number minus 10:\n",
    "\n",
    "```python\n",
    "def minusTen(num):\n",
    "    return num - 10\n",
    "```\n",
    "\n",
    "Notice a couple things here:\n",
    "\n",
    "* Functions start with `def`.\n",
    "* Functions have a name (ours is called \"minusTen\")\n",
    "* If you need to pass one or more arguments to the function, you define them inside parentheses (\"num\" is just a variable name I made up -- it could be anything)\n",
    "* The special Python word \"return,\" which tells the function to return something to the script that called it once it has fulfilled its function\n",
    "\n",
    "You would call the function like this:\n",
    "\n",
    "```python\n",
    "my_number = minusTen(100)\n",
    "print(my_number)\n",
    "# prints 90\n",
    "```\n",
    "\n",
    "In this case we're passing the number 100 to the function. The function's job is to subtract 10 from whatever number you hand it and return it back to the script.\n",
    "\n",
    "You're probably wondering: what happens if you hand the function something that's not a number? Great question! You'd get an error -- an \"exception,\" as they're called in Python.\n",
    "\n",
    "What happens if you call the function without providing an argument: `minusTen()`? Yup, Error City, population you. If this were a real function, you'd want to [build in some error handling](https://docs.python.org/3/tutorial/errors.html) to make sure that the function has in fact received and argument and that it's a number.\n",
    "\n",
    "You could also set your function up to have a default value for the variable:\n",
    "\n",
    "```python\n",
    "def minusTen(num=100):\n",
    "    return num - 10\n",
    "```\n",
    "\n",
    "Now, if you call the function without specifying an argument, it would return `90`.\n",
    "\n",
    "**Write a function called `formatInternName` that takes a string, strips whitespace, makes it uppercase and adds ' IS A DOW JONES INTERN' before returning it. (Remember, you can chain string functions together.)**"
   ]
  },
  {
   "cell_type": "code",
   "execution_count": null,
   "metadata": {
    "collapsed": true
   },
   "outputs": [],
   "source": [
    "def formatInternName(name):\n",
    "    return name.upper() + ' IS A DOW JONES INTERN'"
   ]
  },
  {
   "cell_type": "markdown",
   "metadata": {},
   "source": [
    "Now let's apply our new `formatInternName` function inside a `for` loop.\n",
    "\n",
    "**Loop over the names in our `djnf_interns` list, applying the `formatInternName` function to each item and printing the result.**"
   ]
  },
  {
   "cell_type": "code",
   "execution_count": null,
   "metadata": {
    "collapsed": true,
    "scrolled": true
   },
   "outputs": [],
   "source": [
    "for intern in interns:\n",
    "    print(formatInternName(intern))"
   ]
  },
  {
   "cell_type": "markdown",
   "metadata": {},
   "source": [
    "### Reading data files\n",
    "\n",
    "Let's apply these concepts to a real-world use case: Working with data files. We'll start with the Major League Baseball opening day roster you've already seen in the Excel and SQL lessons.\n",
    "\n",
    "You use the `open()` function to open a file. It's _usually_ a good idea to open a data file using a [`with`](https://docs.python.org/3/reference/compound_stmts.html#with) block, because then you don't have to worry about closing it. Here's an example:\n",
    "\n",
    "```python\n",
    "import csv\n",
    "\n",
    "with open('path/to/your/file.csv', 'r') as data_file:\n",
    "    # do something with your file, which you have access to via the `data_file` variable you just defined\n",
    "```\n",
    "\n",
    "The `open()` function needs at least two arguments: The file you want to open and what mode you want to open it in; `r` means \"read,\" but [there are other modes you can open a file in](https://docs.python.org/3/tutorial/inputoutput.html#reading-and-writing-files). Later on we're going to use the `w` mode to _write_ to a data file.\n",
    "\n",
    "This is a comma-delimited file, so we'll need to import Python's built-in [`csv`](https://docs.python.org/3/library/csv.html) module. Don't let the name fool you -- Python can handle pretty much any kind of delimited text.\n",
    "\n",
    "The MLB data file lives in the `data` directory, which is on the same level as the directory containing this notebook. Two dots mean we're going one level up, then into the data directory: `../data/mlb.csv`.\n",
    "\n",
    "We're going to look at two different ways of using the `csv` module to read a data file:\n",
    "\n",
    "* Treating each row of data as a list, using [`csv.reader()`](https://docs.python.org/3/library/csv.html#csv.reader), and\n",
    "* Treating each row of data as a dictionary, using [`csv.DictReader()`](https://docs.python.org/3/library/csv.html#csv.DictReader)\n",
    "\n",
    "Let's start with rows as lists. Before we start the loop, we're going to take one extra step here, calling the reader object's `next()` function to skip the header row:\n",
    "\n",
    "```python\n",
    "\n",
    "import csv\n",
    "\n",
    "with open('path/to/your/file.csv', 'r', encoding='utf-8') as data_file:\n",
    "    reader = csv.reader(data_file)\n",
    "    next(reader)\n",
    "    \n",
    "    for row in reader:\n",
    "        # do stuff here\n",
    "```\n",
    "\n",
    "- **Import the csv module.**\n",
    "- **Open the data file that lives at `../data/mlb.csv` in a `with` block `as` a variable that you define.**\n",
    "- **In the indented block, create a new variable, `reader`, and set the value as `csv.reader(your_file_variable)`. If you get stuck, [check out the example here](https://docs.python.org/3/library/csv.html#csv.reader).**\n",
    "- **Write a `for` loop to iterate over the rows in your `reader` variable. (Each row will be a list.)**\n",
    "- **Print only the player's name, which will be the first item in the list (because it's the first column of data).**"
   ]
  },
  {
   "cell_type": "code",
   "execution_count": null,
   "metadata": {
    "collapsed": true
   },
   "outputs": [],
   "source": [
    "import csv\n",
    "\n",
    "with open('../data/mlb.csv', 'r', encoding='utf-8') as data_file:\n",
    "    reader = csv.reader(data_file)\n",
    "    \n",
    "    # skip header row\n",
    "    next(reader)\n",
    "    \n",
    "    for row in reader:\n",
    "        print(row[0])"
   ]
  },
  {
   "cell_type": "markdown",
   "metadata": {},
   "source": [
    "Now let's do the same thing but use a `DictReader` object instead. The process will be the same, but each row will be a dictionary, not a list. So instead of accessing items by position, you're going to access values by key -- in this case, the keys are the names of the field from the header row. The field name we're targeting is `'NAME'`.\n",
    "\n",
    "(You don't need to import the `csv` module again.)"
   ]
  },
  {
   "cell_type": "code",
   "execution_count": null,
   "metadata": {
    "collapsed": true
   },
   "outputs": [],
   "source": [
    "with open('../data/mlb.csv', 'r', encoding='utf-8') as data_file:\n",
    "    reader = csv.DictReader(data_file)\n",
    "    \n",
    "    for row in reader:\n",
    "        print(row['NAME'])"
   ]
  },
  {
   "cell_type": "markdown",
   "metadata": {},
   "source": [
    "### Writing to a CSV file\n",
    "\n",
    "Now we're going to open a file and write some data into it. Same idea -- we can treat each row of data as a list, with [`csv.writer`](https://docs.python.org/3/library/csv.html#csv.writer), or as a dictionaries with [`csv.dictWriter`](https://docs.python.org/3/library/csv.html#csv.DictReader). Let's start with lists.\n",
    "\n",
    "To write to the file, we're going to open a file in `'w'` mode. The `csv.writer`'s `writerow()` method expects a list. Here's an example:\n",
    "\n",
    "```python\n",
    "import csv\n",
    "\n",
    "with open('mlb_writer.csv', 'w', encoding='utf-8') as outfile:\n",
    "    writer = csv.writer(outfile)\n",
    "    headers = ['Name', 'Position', 'Team', 'Salary']\n",
    "    writer.writerow(headers)\n",
    "    writer.writerow(['Bob Johnson', 'P', 'Arizona Diamondbacks', 1900000.0])\n",
    "```\n",
    "\n",
    "**Use the `csv.writer()` object to write the following lines to a data file called 'intern.csv':**\n",
    "- **A header row: Name, Age, News Organization**\n",
    "- **A row of data with your name, your age, and the organization you're going to be interning at**\n",
    "\n",
    "(You won't need to import `csv` again.)\n",
    "\n",
    "**Verify that the file was created and has data in it.**"
   ]
  },
  {
   "cell_type": "code",
   "execution_count": null,
   "metadata": {
    "collapsed": true
   },
   "outputs": [],
   "source": [
    "with open('intern.csv', 'w', encoding='utf-8') as outfile:\n",
    "    writer = csv.writer(outfile)\n",
    "    headers = ['Name', 'Age', 'News Organization']\n",
    "    writer.writerow(headers)\n",
    "    writer.writerow(['Cody Winchester', 31, 'IRE/NICAR'])"
   ]
  },
  {
   "cell_type": "markdown",
   "metadata": {},
   "source": [
    "Now let's do the same thing but use a `csv.DictWriter()` object instead. The way you set up the file is a little different -- you have to define the header rows when you create the `DictWriter()` object by passing a list to the `fieldnames` argument.\n",
    "\n",
    "Then you write the headers to the file using the `writeheader()` method.\n",
    "\n",
    "And instead of passing a list to the `writerow()` method, you hand it a dictionary with _the same keys you defined in `fieldnames`._ That's important -- you'll get an error if your dictionary keys don't match what's in `fieldnames`.\n",
    "\n",
    "Here's an example:\n",
    "\n",
    "```python\n",
    "import csv\n",
    "\n",
    "with open('mlb_dictwriter.csv', 'w', encoding='utf-8') as outfile:\n",
    "    headers = ['Name', 'Position', 'Team', 'Salary']\n",
    "    writer = csv.DictWriter(outfile, fieldnames=headers)\n",
    "    writer.writeheader()\n",
    "    writer.writerow({'Name': 'Bob Johnson',\n",
    "                     'Position': 'P',\n",
    "                     'Team': 'Arizona Diamondbacks',\n",
    "                     'Salary': 1900000.0})\n",
    "```\n",
    "\n",
    "**Use the `csv.DictWriter()` object to write the following lines to a data file called 'intern2.csv':**\n",
    "- **A header row: Name, Age, Organization**\n",
    "- **A row of data with your name, your age, and the news organization you're going to be interning at**\n",
    "\n",
    "**Verify that the file was created and has data in it.**"
   ]
  },
  {
   "cell_type": "code",
   "execution_count": null,
   "metadata": {
    "collapsed": true
   },
   "outputs": [],
   "source": [
    "with open('intern2.csv', 'w', encoding='utf-8') as outfile:\n",
    "    headers = ['Name', 'Age', 'Organization']\n",
    "    writer = csv.DictWriter(outfile, fieldnames=headers)\n",
    "    writer.writeheader()\n",
    "    writer.writerow({'Name': 'Cody Winchester', 'Age': 31, 'Organization': 'IRE/NICAR'})"
   ]
  },
  {
   "cell_type": "code",
   "execution_count": null,
   "metadata": {
    "collapsed": true
   },
   "outputs": [],
   "source": []
  }
 ],
 "metadata": {
  "kernelspec": {
   "display_name": "Python 2",
   "language": "python",
   "name": "python2"
  },
  "language_info": {
   "codemirror_mode": {
    "name": "ipython",
    "version": 2
   },
   "file_extension": ".py",
   "mimetype": "text/x-python",
   "name": "python",
   "nbconvert_exporter": "python",
   "pygments_lexer": "ipython2",
   "version": "2.7.10"
  }
 },
 "nbformat": 4,
 "nbformat_minor": 2
}
